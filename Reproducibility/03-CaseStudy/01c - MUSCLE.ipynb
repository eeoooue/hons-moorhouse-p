{
 "cells": [
  {
   "cell_type": "markdown",
   "id": "8bf3a1ba-88af-49e0-b29c-a3feca474233",
   "metadata": {},
   "source": [
    "## MUSCLE Alignment + Scoring"
   ]
  },
  {
   "cell_type": "markdown",
   "id": "19697014-a06c-49eb-ae90-5d969dba7895",
   "metadata": {},
   "source": [
    "#### Imports"
   ]
  },
  {
   "cell_type": "code",
   "execution_count": 1,
   "id": "3b5cc5ef-f78b-4758-983c-8c4ab2b46ea2",
   "metadata": {},
   "outputs": [],
   "source": [
    "import os\n",
    "import shutil\n",
    "import subprocess\n",
    "import time\n",
    "import pandas as pd"
   ]
  },
  {
   "cell_type": "code",
   "execution_count": 2,
   "id": "127275a1-ecfd-4ace-ad7f-2647380d22b0",
   "metadata": {},
   "outputs": [],
   "source": [
    "from wrapped_scorer import WrappedScorer"
   ]
  },
  {
   "cell_type": "markdown",
   "id": "ea019136-fad4-48de-afe0-741c182d10a2",
   "metadata": {},
   "source": [
    "#### MUSCLE"
   ]
  },
  {
   "cell_type": "code",
   "execution_count": 3,
   "id": "323cf1e4-d98c-4488-9180-ea330d582e4b",
   "metadata": {},
   "outputs": [],
   "source": [
    "ALIGNER_NAME = \"MUSCLE\"\n",
    "ALIGNER_PATH = \"aligners/MUSCLE/muscle-win64.v5.3.exe\"\n",
    "OUTPUT_FOLDER = \"aligners/MUSCLE/output\""
   ]
  },
  {
   "cell_type": "code",
   "execution_count": 4,
   "id": "652070cc-cc6e-4b31-a704-65f42e0331f1",
   "metadata": {},
   "outputs": [],
   "source": [
    "# creating empty output folder\n",
    "if os.path.exists(OUTPUT_FOLDER):\n",
    "    shutil.rmtree(OUTPUT_FOLDER)\n",
    "os.makedirs(OUTPUT_FOLDER)"
   ]
  },
  {
   "cell_type": "markdown",
   "id": "64a35a7c-99cf-42da-944a-76e0725b251f",
   "metadata": {},
   "source": [
    "#### BALIS-1"
   ]
  },
  {
   "cell_type": "code",
   "execution_count": 5,
   "id": "967ca9e5-eb37-4b0e-8059-bcca034eb3ab",
   "metadata": {},
   "outputs": [],
   "source": [
    "DATASET_NAME = \"BALIS-1\"\n",
    "DATASET_FOLDER = \"datasets/BALIS-1\"\n",
    "INPUT_FOLDER = f\"{DATASET_FOLDER}/in\"\n",
    "REFERENCES_FOLDER = f\"{DATASET_FOLDER}/ref\""
   ]
  },
  {
   "cell_type": "code",
   "execution_count": 6,
   "id": "10056b82-c4b3-455a-86d5-32dd99a0053b",
   "metadata": {},
   "outputs": [
    {
     "name": "stdout",
     "output_type": "stream",
     "text": [
      "['BB11004', 'BB11005', 'BB11008', 'BB11009', 'BB11011', 'BB11014', 'BB11015', 'BB11016', 'BB11018', 'BB11019']\n"
     ]
    }
   ],
   "source": [
    "# checking that testcases have been found\n",
    "testcases = os.listdir(INPUT_FOLDER)\n",
    "print(testcases[:10])"
   ]
  },
  {
   "cell_type": "markdown",
   "id": "89bffbb7-05d0-48a0-b63c-cd233b47a7dc",
   "metadata": {},
   "source": [
    "#### QScore"
   ]
  },
  {
   "cell_type": "code",
   "execution_count": 7,
   "id": "f4e38849-e72a-40e3-b355-855146a3db36",
   "metadata": {},
   "outputs": [],
   "source": [
    "SCORER_PATH = \"scorers/QScore/qscore.exe\""
   ]
  },
  {
   "cell_type": "code",
   "execution_count": 8,
   "id": "4de21ae0-981d-4f7e-ab31-840b334cf15a",
   "metadata": {},
   "outputs": [],
   "source": [
    "scorer = WrappedScorer(SCORER_PATH)"
   ]
  },
  {
   "cell_type": "markdown",
   "id": "79d461d9-aee7-4518-bdca-ddee7c1674ef",
   "metadata": {},
   "source": [
    "#### Performing Alignment"
   ]
  },
  {
   "cell_type": "code",
   "execution_count": 9,
   "id": "373dfcb5-b295-477b-9618-d26f5a6a9c46",
   "metadata": {},
   "outputs": [],
   "source": [
    "def perform_alignment_and_record_time(filename):\n",
    "\n",
    "    input_path = f\"{INPUT_FOLDER}/{filename}\"\n",
    "    output_path = f\"{OUTPUT_FOLDER}/{filename}\"\n",
    "    command = f\"{ALIGNER_PATH} -align {input_path} -output {output_path}\"\n",
    "\n",
    "    start_time = time.perf_counter()\n",
    "    \n",
    "    subprocess.run(command)\n",
    "\n",
    "    end_time = time.perf_counter()\n",
    "    \n",
    "    time_in_milliseconds = (end_time - start_time) * 1000\n",
    "    time_in_milliseconds = round(time_in_milliseconds, 0)\n",
    "\n",
    "    return int(time_in_milliseconds)"
   ]
  },
  {
   "cell_type": "code",
   "execution_count": 10,
   "id": "319f089b-694f-4b1e-9058-38e3f1aa78ec",
   "metadata": {},
   "outputs": [],
   "source": [
    "def score_quality_of_produced_alignment(filename):\n",
    "\n",
    "    test_path = f\"{OUTPUT_FOLDER}/{filename}\"\n",
    "    reference_path = f\"{REFERENCES_FOLDER}/{filename}\"\n",
    "    score = scorer.score_testcase(test_path, reference_path)\n",
    "\n",
    "    return score"
   ]
  },
  {
   "cell_type": "code",
   "execution_count": 11,
   "id": "89cbb7ac-54c8-4d9a-8cfa-70c38433ef5b",
   "metadata": {},
   "outputs": [],
   "source": [
    "def record_performance_on_testcase(filename):\n",
    "\n",
    "    time_taken = perform_alignment_and_record_time(testcase)\n",
    "    score = score_quality_of_produced_alignment(testcase)\n",
    "\n",
    "\n",
    "    return f\"{ALIGNER_NAME},{DATASET_NAME},{filename},{score},{time_taken}\"\n",
    "    "
   ]
  },
  {
   "cell_type": "code",
   "execution_count": 12,
   "id": "4aff89a6-339c-47c1-ab60-637ab72ec8c7",
   "metadata": {},
   "outputs": [],
   "source": [
    "HEADER = \"aligner,dataset,testcase,Q_score,time_elapsed_ms\"\n",
    "RECORDS = []\n",
    "RECORDS.append(HEADER)"
   ]
  },
  {
   "cell_type": "code",
   "execution_count": 13,
   "id": "44f14d4a-19a5-4313-bc47-f318452fe86e",
   "metadata": {},
   "outputs": [],
   "source": [
    "for testcase in testcases:\n",
    "    record = record_performance_on_testcase(testcase)\n",
    "    RECORDS.append(record)"
   ]
  },
  {
   "cell_type": "code",
   "execution_count": 14,
   "id": "cb6de512-4e00-49b0-8686-50fc019876c1",
   "metadata": {},
   "outputs": [
    {
     "name": "stdout",
     "output_type": "stream",
     "text": [
      "aligner,dataset,testcase,Q_score,time_elapsed_ms\n",
      "MUSCLE,BALIS-1,BB50014,0.971,258\n"
     ]
    }
   ],
   "source": [
    "print(RECORDS[0])\n",
    "print(RECORDS[-1])"
   ]
  },
  {
   "cell_type": "markdown",
   "id": "57e0a175-9359-4f6f-aff2-fae99896721e",
   "metadata": {},
   "source": [
    "#### Writing Records to CSV"
   ]
  },
  {
   "cell_type": "code",
   "execution_count": 15,
   "id": "6c0730e2-ebc4-4276-94d5-820c3953c436",
   "metadata": {},
   "outputs": [],
   "source": [
    "RESULTS_FILENAME = f\"sbench_{ALIGNER_NAME}_on_{DATASET_NAME}.csv\"\n",
    "RESULTS_FILEPATH = f\"results/{RESULTS_FILENAME}\""
   ]
  },
  {
   "cell_type": "code",
   "execution_count": 16,
   "id": "0726aca2-f49a-4c32-b644-30b63de52587",
   "metadata": {},
   "outputs": [],
   "source": [
    "with open(RESULTS_FILEPATH, \"w\") as file:\n",
    "    for record in RECORDS:\n",
    "        file.write(record)\n",
    "        file.write(\"\\n\")"
   ]
  },
  {
   "cell_type": "code",
   "execution_count": 17,
   "id": "125487ea-e1a0-441e-9ce8-fe0c63cdd1d4",
   "metadata": {},
   "outputs": [
    {
     "name": "stdout",
     "output_type": "stream",
     "text": [
      "Results written to: results/sbench_MUSCLE_on_BALIS-1.csv\n"
     ]
    }
   ],
   "source": [
    "print(f\"Results written to: {RESULTS_FILEPATH}\")"
   ]
  },
  {
   "cell_type": "markdown",
   "id": "03f11577-b04c-4b96-b03d-a7fc91e778fe",
   "metadata": {},
   "source": [
    "#### Previewing Results"
   ]
  },
  {
   "cell_type": "code",
   "execution_count": 18,
   "id": "3e8c54bc-1824-4f3b-a1d4-b6b10feed426",
   "metadata": {},
   "outputs": [
    {
     "data": {
      "text/html": [
       "<div>\n",
       "<style scoped>\n",
       "    .dataframe tbody tr th:only-of-type {\n",
       "        vertical-align: middle;\n",
       "    }\n",
       "\n",
       "    .dataframe tbody tr th {\n",
       "        vertical-align: top;\n",
       "    }\n",
       "\n",
       "    .dataframe thead th {\n",
       "        text-align: right;\n",
       "    }\n",
       "</style>\n",
       "<table border=\"1\" class=\"dataframe\">\n",
       "  <thead>\n",
       "    <tr style=\"text-align: right;\">\n",
       "      <th></th>\n",
       "      <th>aligner</th>\n",
       "      <th>dataset</th>\n",
       "      <th>testcase</th>\n",
       "      <th>Q_score</th>\n",
       "      <th>time_elapsed_ms</th>\n",
       "    </tr>\n",
       "  </thead>\n",
       "  <tbody>\n",
       "    <tr>\n",
       "      <th>0</th>\n",
       "      <td>MUSCLE</td>\n",
       "      <td>BALIS-1</td>\n",
       "      <td>BB11004</td>\n",
       "      <td>0.674</td>\n",
       "      <td>143</td>\n",
       "    </tr>\n",
       "    <tr>\n",
       "      <th>1</th>\n",
       "      <td>MUSCLE</td>\n",
       "      <td>BALIS-1</td>\n",
       "      <td>BB11005</td>\n",
       "      <td>0.554</td>\n",
       "      <td>760</td>\n",
       "    </tr>\n",
       "    <tr>\n",
       "      <th>2</th>\n",
       "      <td>MUSCLE</td>\n",
       "      <td>BALIS-1</td>\n",
       "      <td>BB11008</td>\n",
       "      <td>0.779</td>\n",
       "      <td>110</td>\n",
       "    </tr>\n",
       "    <tr>\n",
       "      <th>3</th>\n",
       "      <td>MUSCLE</td>\n",
       "      <td>BALIS-1</td>\n",
       "      <td>BB11009</td>\n",
       "      <td>0.758</td>\n",
       "      <td>63</td>\n",
       "    </tr>\n",
       "    <tr>\n",
       "      <th>4</th>\n",
       "      <td>MUSCLE</td>\n",
       "      <td>BALIS-1</td>\n",
       "      <td>BB11011</td>\n",
       "      <td>0.648</td>\n",
       "      <td>67</td>\n",
       "    </tr>\n",
       "  </tbody>\n",
       "</table>\n",
       "</div>"
      ],
      "text/plain": [
       "  aligner  dataset testcase  Q_score  time_elapsed_ms\n",
       "0  MUSCLE  BALIS-1  BB11004    0.674              143\n",
       "1  MUSCLE  BALIS-1  BB11005    0.554              760\n",
       "2  MUSCLE  BALIS-1  BB11008    0.779              110\n",
       "3  MUSCLE  BALIS-1  BB11009    0.758               63\n",
       "4  MUSCLE  BALIS-1  BB11011    0.648               67"
      ]
     },
     "execution_count": 18,
     "metadata": {},
     "output_type": "execute_result"
    }
   ],
   "source": [
    "df = pd.read_csv(RESULTS_FILEPATH)\n",
    "df.head()"
   ]
  },
  {
   "cell_type": "code",
   "execution_count": null,
   "id": "31cb4746-1d2c-4f4d-a0c0-8df85d83a2db",
   "metadata": {},
   "outputs": [],
   "source": []
  }
 ],
 "metadata": {
  "kernelspec": {
   "display_name": "Python 3 (ipykernel)",
   "language": "python",
   "name": "python3"
  },
  "language_info": {
   "codemirror_mode": {
    "name": "ipython",
    "version": 3
   },
   "file_extension": ".py",
   "mimetype": "text/x-python",
   "name": "python",
   "nbconvert_exporter": "python",
   "pygments_lexer": "ipython3",
   "version": "3.10.4"
  }
 },
 "nbformat": 4,
 "nbformat_minor": 5
}

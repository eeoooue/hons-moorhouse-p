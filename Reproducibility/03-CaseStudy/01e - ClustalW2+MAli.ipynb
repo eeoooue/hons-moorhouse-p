{
 "cells": [
  {
   "cell_type": "markdown",
   "id": "8bf3a1ba-88af-49e0-b29c-a3feca474233",
   "metadata": {},
   "source": [
    "## Clustal W2 Alignment + MAli v1.31 Refinement\n",
    "\n",
    "NOTE: This notebook assumes that ```01b - ClustalW2.ipynb``` has already been run to completion."
   ]
  },
  {
   "cell_type": "markdown",
   "id": "19697014-a06c-49eb-ae90-5d969dba7895",
   "metadata": {},
   "source": [
    "#### Imports"
   ]
  },
  {
   "cell_type": "code",
   "execution_count": 1,
   "id": "3b5cc5ef-f78b-4758-983c-8c4ab2b46ea2",
   "metadata": {},
   "outputs": [],
   "source": [
    "import os\n",
    "import shutil\n",
    "import subprocess\n",
    "import time\n",
    "import pandas as pd"
   ]
  },
  {
   "cell_type": "code",
   "execution_count": 2,
   "id": "127275a1-ecfd-4ace-ad7f-2647380d22b0",
   "metadata": {},
   "outputs": [],
   "source": [
    "from wrapped_scorer import WrappedScorer"
   ]
  },
  {
   "cell_type": "code",
   "execution_count": 3,
   "id": "90898277-eb40-4523-b7c5-7061e6a2cfd9",
   "metadata": {},
   "outputs": [],
   "source": [
    "STRATEGY_NAME = \"ClustalW2-MAli-Refine\""
   ]
  },
  {
   "cell_type": "markdown",
   "id": "ea87e8d8-caee-469f-afc1-8b5d40e59934",
   "metadata": {},
   "source": [
    "#### Clustal W2"
   ]
  },
  {
   "cell_type": "code",
   "execution_count": 4,
   "id": "f5cd4b24-095d-4790-a94f-062e6863f6e2",
   "metadata": {},
   "outputs": [],
   "source": [
    "PROGRESSIVE_OUTPUT_FOLDER = \"aligners/ClustalW2/output\""
   ]
  },
  {
   "cell_type": "markdown",
   "id": "29099761-17cc-4ede-8e17-d99e84afc28f",
   "metadata": {},
   "source": [
    "#### MAli v1.3"
   ]
  },
  {
   "cell_type": "code",
   "execution_count": 5,
   "id": "3996488a-dc9b-46d1-8223-f8f320e7e8c2",
   "metadata": {},
   "outputs": [],
   "source": [
    "SEED = 9032025\n",
    "ITERATIONS = 200\n",
    "ITERATIVE_ALIGNER_NAME = \"MAli-v1.31\"\n",
    "ITERATIVE_ALIGNER_PATH = \"aligners/MAli-v1.31/MAli.exe\"\n",
    "ITERATIVE_OUTPUT_FOLDER = \"refinement/MAli-v1.31/output\""
   ]
  },
  {
   "cell_type": "code",
   "execution_count": 6,
   "id": "f21d7432-152e-4f59-8299-b69a5dd047ee",
   "metadata": {},
   "outputs": [],
   "source": [
    "# creating empty output folder\n",
    "if os.path.exists(ITERATIVE_OUTPUT_FOLDER):\n",
    "    shutil.rmtree(ITERATIVE_OUTPUT_FOLDER)\n",
    "os.makedirs(ITERATIVE_OUTPUT_FOLDER)"
   ]
  },
  {
   "cell_type": "markdown",
   "id": "64a35a7c-99cf-42da-944a-76e0725b251f",
   "metadata": {},
   "source": [
    "#### BALIS-1"
   ]
  },
  {
   "cell_type": "code",
   "execution_count": 7,
   "id": "967ca9e5-eb37-4b0e-8059-bcca034eb3ab",
   "metadata": {},
   "outputs": [],
   "source": [
    "DATASET_NAME = \"BALIS-1\"\n",
    "DATASET_FOLDER = \"datasets/BALIS-1\"\n",
    "INPUT_FOLDER = f\"{DATASET_FOLDER}/in\"\n",
    "REFERENCES_FOLDER = f\"{DATASET_FOLDER}/ref\""
   ]
  },
  {
   "cell_type": "code",
   "execution_count": 8,
   "id": "10056b82-c4b3-455a-86d5-32dd99a0053b",
   "metadata": {},
   "outputs": [
    {
     "name": "stdout",
     "output_type": "stream",
     "text": [
      "['BB11004', 'BB11005', 'BB11008', 'BB11009', 'BB11011', 'BB11014', 'BB11015', 'BB11016', 'BB11018', 'BB11019']\n"
     ]
    }
   ],
   "source": [
    "# checking that testcases have been found\n",
    "testcases = os.listdir(INPUT_FOLDER)\n",
    "print(testcases[:10])"
   ]
  },
  {
   "cell_type": "markdown",
   "id": "89bffbb7-05d0-48a0-b63c-cd233b47a7dc",
   "metadata": {},
   "source": [
    "#### QScore"
   ]
  },
  {
   "cell_type": "code",
   "execution_count": 9,
   "id": "f4e38849-e72a-40e3-b355-855146a3db36",
   "metadata": {},
   "outputs": [],
   "source": [
    "SCORER_PATH = \"scorers/QScore/qscore.exe\""
   ]
  },
  {
   "cell_type": "code",
   "execution_count": 10,
   "id": "4de21ae0-981d-4f7e-ab31-840b334cf15a",
   "metadata": {},
   "outputs": [],
   "source": [
    "scorer = WrappedScorer(SCORER_PATH)"
   ]
  },
  {
   "cell_type": "markdown",
   "id": "79d461d9-aee7-4518-bdca-ddee7c1674ef",
   "metadata": {},
   "source": [
    "#### Performing 2-Stage Alignment"
   ]
  },
  {
   "cell_type": "code",
   "execution_count": 11,
   "id": "373dfcb5-b295-477b-9618-d26f5a6a9c46",
   "metadata": {},
   "outputs": [],
   "source": [
    "def perform_refinement_and_record_time(filename):\n",
    "\n",
    "    input_path = f\"{INPUT_FOLDER}/{filename}\"\n",
    "    prog_output_path = f\"{PROGRESSIVE_OUTPUT_FOLDER}/{filename}\"\n",
    "    iter_output_path = f\"{ITERATIVE_OUTPUT_FOLDER}/{filename}\"\n",
    "    \n",
    "    iter_command = f\"{ITERATIVE_ALIGNER_PATH} -input {prog_output_path} -output {iter_output_path} -seed {SEED} -iterations {ITERATIONS} -refine\"\n",
    "\n",
    "    start_time = time.perf_counter()\n",
    "    \n",
    "    subprocess.run(iter_command)\n",
    "\n",
    "    end_time = time.perf_counter()\n",
    "    \n",
    "    time_in_milliseconds = (end_time - start_time) * 1000\n",
    "    time_in_milliseconds = round(time_in_milliseconds, 0)\n",
    "\n",
    "    return int(time_in_milliseconds)"
   ]
  },
  {
   "cell_type": "code",
   "execution_count": 12,
   "id": "319f089b-694f-4b1e-9058-38e3f1aa78ec",
   "metadata": {},
   "outputs": [],
   "source": [
    "def score_quality_of_produced_alignment(filename):\n",
    "\n",
    "    test_path = f\"{ITERATIVE_OUTPUT_FOLDER}/{filename}.faa\"\n",
    "    reference_path = f\"{REFERENCES_FOLDER}/{filename}\"\n",
    "    score = scorer.score_testcase(test_path, reference_path)\n",
    "\n",
    "    return score"
   ]
  },
  {
   "cell_type": "code",
   "execution_count": 13,
   "id": "89cbb7ac-54c8-4d9a-8cfa-70c38433ef5b",
   "metadata": {},
   "outputs": [],
   "source": [
    "def record_performance_on_testcase(filename):\n",
    "\n",
    "    time_taken = perform_refinement_and_record_time(testcase)\n",
    "    score = score_quality_of_produced_alignment(testcase)\n",
    "\n",
    "    return f\"{STRATEGY_NAME},{DATASET_NAME},{filename},{score},{time_taken}\"\n",
    "    "
   ]
  },
  {
   "cell_type": "code",
   "execution_count": 14,
   "id": "4aff89a6-339c-47c1-ab60-637ab72ec8c7",
   "metadata": {},
   "outputs": [],
   "source": [
    "HEADER = \"aligner,dataset,testcase,Q_score,time_elapsed_ms\"\n",
    "RECORDS = []\n",
    "RECORDS.append(HEADER)"
   ]
  },
  {
   "cell_type": "code",
   "execution_count": 15,
   "id": "44f14d4a-19a5-4313-bc47-f318452fe86e",
   "metadata": {},
   "outputs": [
    {
     "name": "stdout",
     "output_type": "stream",
     "text": [
      "ClustalW2-MAli-Refine,BALIS-1,BB11004,0.188,940\n",
      "ClustalW2-MAli-Refine,BALIS-1,BB11005,0.4,1381\n",
      "ClustalW2-MAli-Refine,BALIS-1,BB11008,0.643,1056\n",
      "ClustalW2-MAli-Refine,BALIS-1,BB11009,0.339,884\n",
      "ClustalW2-MAli-Refine,BALIS-1,BB11011,0.357,709\n",
      "ClustalW2-MAli-Refine,BALIS-1,BB11014,0.818,1149\n",
      "ClustalW2-MAli-Refine,BALIS-1,BB11015,0.685,888\n",
      "ClustalW2-MAli-Refine,BALIS-1,BB11016,0.515,1204\n",
      "ClustalW2-MAli-Refine,BALIS-1,BB11018,0.59,1838\n",
      "ClustalW2-MAli-Refine,BALIS-1,BB11019,0.587,944\n",
      "ClustalW2-MAli-Refine,BALIS-1,BB11021,0.35,396\n",
      "ClustalW2-MAli-Refine,BALIS-1,BB11022,0.212,670\n",
      "ClustalW2-MAli-Refine,BALIS-1,BB11025,0.237,342\n",
      "ClustalW2-MAli-Refine,BALIS-1,BB11027,0.341,986\n",
      "ClustalW2-MAli-Refine,BALIS-1,BB11029,0.503,412\n",
      "ClustalW2-MAli-Refine,BALIS-1,BB11031,0.335,1154\n",
      "ClustalW2-MAli-Refine,BALIS-1,BB11033,0.494,803\n",
      "ClustalW2-MAli-Refine,BALIS-1,BB11038,0.554,1142\n",
      "ClustalW2-MAli-Refine,BALIS-1,BB12005,0.985,587\n",
      "ClustalW2-MAli-Refine,BALIS-1,BB12013,0.962,1236\n",
      "ClustalW2-MAli-Refine,BALIS-1,BB12014,0.91,292\n",
      "ClustalW2-MAli-Refine,BALIS-1,BB12016,0.795,431\n",
      "ClustalW2-MAli-Refine,BALIS-1,BB12021,0.949,284\n",
      "ClustalW2-MAli-Refine,BALIS-1,BB12024,0.972,713\n",
      "ClustalW2-MAli-Refine,BALIS-1,BB12026,0.897,763\n",
      "ClustalW2-MAli-Refine,BALIS-1,BB12028,0.87,1031\n",
      "ClustalW2-MAli-Refine,BALIS-1,BB12037,0.997,1129\n",
      "ClustalW2-MAli-Refine,BALIS-1,BB12039,0.562,876\n",
      "ClustalW2-MAli-Refine,BALIS-1,BB20001,0.947,277\n",
      "ClustalW2-MAli-Refine,BALIS-1,BB20003,0.611,1066\n",
      "ClustalW2-MAli-Refine,BALIS-1,BB20006,0.805,743\n",
      "ClustalW2-MAli-Refine,BALIS-1,BB20007,0.769,1028\n",
      "ClustalW2-MAli-Refine,BALIS-1,BB20008,0.765,1065\n",
      "ClustalW2-MAli-Refine,BALIS-1,BB20012,0.48,1137\n",
      "ClustalW2-MAli-Refine,BALIS-1,BB20014,0.428,714\n",
      "ClustalW2-MAli-Refine,BALIS-1,BB20015,0.04,361\n",
      "ClustalW2-MAli-Refine,BALIS-1,BB20017,0.812,958\n",
      "ClustalW2-MAli-Refine,BALIS-1,BB20021,0.22,1020\n",
      "ClustalW2-MAli-Refine,BALIS-1,BB20022,0.451,894\n",
      "ClustalW2-MAli-Refine,BALIS-1,BB20023,0.703,813\n",
      "ClustalW2-MAli-Refine,BALIS-1,BB20024,0.0,640\n",
      "ClustalW2-MAli-Refine,BALIS-1,BB20027,0.821,991\n",
      "ClustalW2-MAli-Refine,BALIS-1,BB20041,0.567,1094\n",
      "ClustalW2-MAli-Refine,BALIS-1,BB30001,0.873,1060\n",
      "ClustalW2-MAli-Refine,BALIS-1,BB30004,0.879,1228\n",
      "ClustalW2-MAli-Refine,BALIS-1,BB30006,0.797,1149\n",
      "ClustalW2-MAli-Refine,BALIS-1,BB30008,0.311,1104\n",
      "ClustalW2-MAli-Refine,BALIS-1,BB30011,0.837,936\n",
      "ClustalW2-MAli-Refine,BALIS-1,BB30014,0.796,794\n",
      "ClustalW2-MAli-Refine,BALIS-1,BB30015,0.663,869\n",
      "ClustalW2-MAli-Refine,BALIS-1,BB30016,0.284,697\n",
      "ClustalW2-MAli-Refine,BALIS-1,BB30017,0.686,884\n",
      "ClustalW2-MAli-Refine,BALIS-1,BB30018,0.333,1015\n",
      "ClustalW2-MAli-Refine,BALIS-1,BB30019,0.227,1223\n",
      "ClustalW2-MAli-Refine,BALIS-1,BB30021,0.225,999\n",
      "ClustalW2-MAli-Refine,BALIS-1,BB30022,0.723,340\n",
      "ClustalW2-MAli-Refine,BALIS-1,BB30023,0.513,842\n",
      "ClustalW2-MAli-Refine,BALIS-1,BB30025,0.492,396\n",
      "ClustalW2-MAli-Refine,BALIS-1,BB30026,0.663,859\n",
      "ClustalW2-MAli-Refine,BALIS-1,BB30027,0.348,659\n",
      "ClustalW2-MAli-Refine,BALIS-1,BB30028,0.245,1092\n",
      "ClustalW2-MAli-Refine,BALIS-1,BB40008,0.904,1090\n",
      "ClustalW2-MAli-Refine,BALIS-1,BB40009,0.933,1041\n",
      "ClustalW2-MAli-Refine,BALIS-1,BB40015,1.0,401\n",
      "ClustalW2-MAli-Refine,BALIS-1,BB40016,1.0,691\n",
      "ClustalW2-MAli-Refine,BALIS-1,BB40018,0.838,348\n",
      "ClustalW2-MAli-Refine,BALIS-1,BB40019,0.909,1035\n",
      "ClustalW2-MAli-Refine,BALIS-1,BB40022,0.93,711\n",
      "ClustalW2-MAli-Refine,BALIS-1,BB40024,0.507,1067\n",
      "ClustalW2-MAli-Refine,BALIS-1,BB40025,0.867,799\n",
      "ClustalW2-MAli-Refine,BALIS-1,BB40026,0.742,1233\n",
      "ClustalW2-MAli-Refine,BALIS-1,BB40027,0.642,921\n",
      "ClustalW2-MAli-Refine,BALIS-1,BB40028,0.884,726\n",
      "ClustalW2-MAli-Refine,BALIS-1,BB40029,0.732,966\n",
      "ClustalW2-MAli-Refine,BALIS-1,BB40033,0.366,942\n",
      "ClustalW2-MAli-Refine,BALIS-1,BB40036,0.984,1127\n",
      "ClustalW2-MAli-Refine,BALIS-1,BB40037,0.978,769\n",
      "ClustalW2-MAli-Refine,BALIS-1,BB40038,0.828,337\n",
      "ClustalW2-MAli-Refine,BALIS-1,BB40039,0.926,1077\n",
      "ClustalW2-MAli-Refine,BALIS-1,BB40041,0.711,1593\n",
      "ClustalW2-MAli-Refine,BALIS-1,BB40046,0.4,936\n",
      "ClustalW2-MAli-Refine,BALIS-1,BB40049,0.963,967\n",
      "ClustalW2-MAli-Refine,BALIS-1,BB50001,0.559,1017\n",
      "ClustalW2-MAli-Refine,BALIS-1,BB50004,0.995,993\n",
      "ClustalW2-MAli-Refine,BALIS-1,BB50005,0.99,1047\n",
      "ClustalW2-MAli-Refine,BALIS-1,BB50007,0.767,899\n",
      "ClustalW2-MAli-Refine,BALIS-1,BB50008,0.955,802\n",
      "ClustalW2-MAli-Refine,BALIS-1,BB50011,0.478,910\n",
      "ClustalW2-MAli-Refine,BALIS-1,BB50012,0.914,986\n",
      "ClustalW2-MAli-Refine,BALIS-1,BB50014,0.922,968\n"
     ]
    }
   ],
   "source": [
    "for testcase in testcases:\n",
    "    record = record_performance_on_testcase(testcase)\n",
    "    RECORDS.append(record)\n",
    "    print(record)"
   ]
  },
  {
   "cell_type": "code",
   "execution_count": 16,
   "id": "cb6de512-4e00-49b0-8686-50fc019876c1",
   "metadata": {},
   "outputs": [
    {
     "name": "stdout",
     "output_type": "stream",
     "text": [
      "aligner,dataset,testcase,Q_score,time_elapsed_ms\n",
      "ClustalW2-MAli-Refine,BALIS-1,BB50014,0.922,968\n"
     ]
    }
   ],
   "source": [
    "print(RECORDS[0])\n",
    "print(RECORDS[-1])"
   ]
  },
  {
   "cell_type": "markdown",
   "id": "3645d1bc-f571-4bfe-8a7a-bf5aeb0f5bb5",
   "metadata": {},
   "source": [
    "#### Cleaning Up"
   ]
  },
  {
   "cell_type": "markdown",
   "id": "c3781f79-193a-4664-ad7b-f31abf3820cb",
   "metadata": {},
   "source": [
    "ClustalW2 leaves .dnd guide tree files next to the input sequences, these are to be removed."
   ]
  },
  {
   "cell_type": "code",
   "execution_count": 17,
   "id": "aadac51d-f667-47fc-881d-3962f729af4a",
   "metadata": {},
   "outputs": [],
   "source": [
    "count_removed = 0\n",
    "for filename in os.listdir(INPUT_FOLDER):\n",
    "    if filename.endswith(\".dnd\"):\n",
    "        file_path = os.path.join(INPUT_FOLDER, filename)\n",
    "        os.remove(file_path)\n",
    "        count_removed += 1"
   ]
  },
  {
   "cell_type": "code",
   "execution_count": 18,
   "id": "4a9038a9-3043-4926-9781-53dc59aa10e5",
   "metadata": {},
   "outputs": [
    {
     "name": "stdout",
     "output_type": "stream",
     "text": [
      "Cleaned 0 guide tree files left in dataset folder.\n"
     ]
    }
   ],
   "source": [
    "print(f\"Cleaned {count_removed} guide tree files left in dataset folder.\")"
   ]
  },
  {
   "cell_type": "markdown",
   "id": "57e0a175-9359-4f6f-aff2-fae99896721e",
   "metadata": {},
   "source": [
    "#### Writing Records to CSV"
   ]
  },
  {
   "cell_type": "code",
   "execution_count": 19,
   "id": "6c0730e2-ebc4-4276-94d5-820c3953c436",
   "metadata": {},
   "outputs": [],
   "source": [
    "RESULTS_FILENAME = f\"sbench_{STRATEGY_NAME}_on_{DATASET_NAME}.csv\"\n",
    "RESULTS_FILEPATH = f\"results/{RESULTS_FILENAME}\""
   ]
  },
  {
   "cell_type": "code",
   "execution_count": 20,
   "id": "0726aca2-f49a-4c32-b644-30b63de52587",
   "metadata": {},
   "outputs": [],
   "source": [
    "with open(RESULTS_FILEPATH, \"w\") as file:\n",
    "    for record in RECORDS:\n",
    "        file.write(record)\n",
    "        file.write(\"\\n\")"
   ]
  },
  {
   "cell_type": "code",
   "execution_count": 21,
   "id": "125487ea-e1a0-441e-9ce8-fe0c63cdd1d4",
   "metadata": {},
   "outputs": [
    {
     "name": "stdout",
     "output_type": "stream",
     "text": [
      "Results written to: results/sbench_ClustalW2-MAli-Refine_on_BALIS-1.csv\n"
     ]
    }
   ],
   "source": [
    "print(f\"Results written to: {RESULTS_FILEPATH}\")"
   ]
  },
  {
   "cell_type": "markdown",
   "id": "03f11577-b04c-4b96-b03d-a7fc91e778fe",
   "metadata": {},
   "source": [
    "#### Previewing Results"
   ]
  },
  {
   "cell_type": "code",
   "execution_count": 22,
   "id": "3e8c54bc-1824-4f3b-a1d4-b6b10feed426",
   "metadata": {},
   "outputs": [
    {
     "data": {
      "text/html": [
       "<div>\n",
       "<style scoped>\n",
       "    .dataframe tbody tr th:only-of-type {\n",
       "        vertical-align: middle;\n",
       "    }\n",
       "\n",
       "    .dataframe tbody tr th {\n",
       "        vertical-align: top;\n",
       "    }\n",
       "\n",
       "    .dataframe thead th {\n",
       "        text-align: right;\n",
       "    }\n",
       "</style>\n",
       "<table border=\"1\" class=\"dataframe\">\n",
       "  <thead>\n",
       "    <tr style=\"text-align: right;\">\n",
       "      <th></th>\n",
       "      <th>aligner</th>\n",
       "      <th>dataset</th>\n",
       "      <th>testcase</th>\n",
       "      <th>Q_score</th>\n",
       "      <th>time_elapsed_ms</th>\n",
       "    </tr>\n",
       "  </thead>\n",
       "  <tbody>\n",
       "    <tr>\n",
       "      <th>0</th>\n",
       "      <td>ClustalW2-MAli-Refine</td>\n",
       "      <td>BALIS-1</td>\n",
       "      <td>BB11004</td>\n",
       "      <td>0.188</td>\n",
       "      <td>940</td>\n",
       "    </tr>\n",
       "    <tr>\n",
       "      <th>1</th>\n",
       "      <td>ClustalW2-MAli-Refine</td>\n",
       "      <td>BALIS-1</td>\n",
       "      <td>BB11005</td>\n",
       "      <td>0.400</td>\n",
       "      <td>1381</td>\n",
       "    </tr>\n",
       "    <tr>\n",
       "      <th>2</th>\n",
       "      <td>ClustalW2-MAli-Refine</td>\n",
       "      <td>BALIS-1</td>\n",
       "      <td>BB11008</td>\n",
       "      <td>0.643</td>\n",
       "      <td>1056</td>\n",
       "    </tr>\n",
       "    <tr>\n",
       "      <th>3</th>\n",
       "      <td>ClustalW2-MAli-Refine</td>\n",
       "      <td>BALIS-1</td>\n",
       "      <td>BB11009</td>\n",
       "      <td>0.339</td>\n",
       "      <td>884</td>\n",
       "    </tr>\n",
       "    <tr>\n",
       "      <th>4</th>\n",
       "      <td>ClustalW2-MAli-Refine</td>\n",
       "      <td>BALIS-1</td>\n",
       "      <td>BB11011</td>\n",
       "      <td>0.357</td>\n",
       "      <td>709</td>\n",
       "    </tr>\n",
       "  </tbody>\n",
       "</table>\n",
       "</div>"
      ],
      "text/plain": [
       "                 aligner  dataset testcase  Q_score  time_elapsed_ms\n",
       "0  ClustalW2-MAli-Refine  BALIS-1  BB11004    0.188              940\n",
       "1  ClustalW2-MAli-Refine  BALIS-1  BB11005    0.400             1381\n",
       "2  ClustalW2-MAli-Refine  BALIS-1  BB11008    0.643             1056\n",
       "3  ClustalW2-MAli-Refine  BALIS-1  BB11009    0.339              884\n",
       "4  ClustalW2-MAli-Refine  BALIS-1  BB11011    0.357              709"
      ]
     },
     "execution_count": 22,
     "metadata": {},
     "output_type": "execute_result"
    }
   ],
   "source": [
    "df = pd.read_csv(RESULTS_FILEPATH)\n",
    "df.head()"
   ]
  },
  {
   "cell_type": "code",
   "execution_count": null,
   "id": "31cb4746-1d2c-4f4d-a0c0-8df85d83a2db",
   "metadata": {},
   "outputs": [],
   "source": []
  }
 ],
 "metadata": {
  "kernelspec": {
   "display_name": "Python 3 (ipykernel)",
   "language": "python",
   "name": "python3"
  },
  "language_info": {
   "codemirror_mode": {
    "name": "ipython",
    "version": 3
   },
   "file_extension": ".py",
   "mimetype": "text/x-python",
   "name": "python",
   "nbconvert_exporter": "python",
   "pygments_lexer": "ipython3",
   "version": "3.10.4"
  }
 },
 "nbformat": 4,
 "nbformat_minor": 5
}

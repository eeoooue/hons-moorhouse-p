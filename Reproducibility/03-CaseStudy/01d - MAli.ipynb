{
 "cells": [
  {
   "cell_type": "markdown",
   "id": "8bf3a1ba-88af-49e0-b29c-a3feca474233",
   "metadata": {},
   "source": [
    "## MAli v1.31 Alignment + Scoring"
   ]
  },
  {
   "cell_type": "markdown",
   "id": "19697014-a06c-49eb-ae90-5d969dba7895",
   "metadata": {},
   "source": [
    "#### Imports"
   ]
  },
  {
   "cell_type": "code",
   "execution_count": 1,
   "id": "3b5cc5ef-f78b-4758-983c-8c4ab2b46ea2",
   "metadata": {},
   "outputs": [],
   "source": [
    "import os\n",
    "import shutil\n",
    "import subprocess\n",
    "import time\n",
    "import pandas as pd"
   ]
  },
  {
   "cell_type": "code",
   "execution_count": 2,
   "id": "127275a1-ecfd-4ace-ad7f-2647380d22b0",
   "metadata": {},
   "outputs": [],
   "source": [
    "from wrapped_scorer import WrappedScorer"
   ]
  },
  {
   "cell_type": "markdown",
   "id": "ea019136-fad4-48de-afe0-741c182d10a2",
   "metadata": {},
   "source": [
    "#### MAli v1.3"
   ]
  },
  {
   "cell_type": "code",
   "execution_count": 3,
   "id": "474037b1-704b-4ffc-86f0-6271c4ebb82f",
   "metadata": {},
   "outputs": [],
   "source": [
    "SEED = 9032025\n",
    "ITERATIONS = 200"
   ]
  },
  {
   "cell_type": "code",
   "execution_count": 4,
   "id": "323cf1e4-d98c-4488-9180-ea330d582e4b",
   "metadata": {},
   "outputs": [],
   "source": [
    "ALIGNER_NAME = \"MAli-v1.31\"\n",
    "ALIGNER_PATH = \"aligners/MAli-v1.31/MAli.exe\"\n",
    "OUTPUT_FOLDER = \"aligners/MAli-v1.31/output\""
   ]
  },
  {
   "cell_type": "code",
   "execution_count": 5,
   "id": "652070cc-cc6e-4b31-a704-65f42e0331f1",
   "metadata": {},
   "outputs": [],
   "source": [
    "# creating empty output folder\n",
    "if os.path.exists(OUTPUT_FOLDER):\n",
    "    shutil.rmtree(OUTPUT_FOLDER)\n",
    "os.makedirs(OUTPUT_FOLDER)"
   ]
  },
  {
   "cell_type": "markdown",
   "id": "64a35a7c-99cf-42da-944a-76e0725b251f",
   "metadata": {},
   "source": [
    "#### BALIS-1"
   ]
  },
  {
   "cell_type": "code",
   "execution_count": 6,
   "id": "967ca9e5-eb37-4b0e-8059-bcca034eb3ab",
   "metadata": {},
   "outputs": [],
   "source": [
    "DATASET_NAME = \"BALIS-1\"\n",
    "DATASET_FOLDER = \"datasets/BALIS-1\"\n",
    "INPUT_FOLDER = f\"{DATASET_FOLDER}/in\"\n",
    "REFERENCES_FOLDER = f\"{DATASET_FOLDER}/ref\""
   ]
  },
  {
   "cell_type": "code",
   "execution_count": 7,
   "id": "10056b82-c4b3-455a-86d5-32dd99a0053b",
   "metadata": {},
   "outputs": [
    {
     "name": "stdout",
     "output_type": "stream",
     "text": [
      "['BB11004', 'BB11005', 'BB11008', 'BB11009', 'BB11011', 'BB11014', 'BB11015', 'BB11016', 'BB11018', 'BB11019']\n"
     ]
    }
   ],
   "source": [
    "# checking that testcases have been found\n",
    "testcases = os.listdir(INPUT_FOLDER)\n",
    "print(testcases[:10])"
   ]
  },
  {
   "cell_type": "markdown",
   "id": "89bffbb7-05d0-48a0-b63c-cd233b47a7dc",
   "metadata": {},
   "source": [
    "#### QScore"
   ]
  },
  {
   "cell_type": "code",
   "execution_count": 8,
   "id": "f4e38849-e72a-40e3-b355-855146a3db36",
   "metadata": {},
   "outputs": [],
   "source": [
    "SCORER_PATH = \"scorers/QScore/qscore.exe\""
   ]
  },
  {
   "cell_type": "code",
   "execution_count": 9,
   "id": "4de21ae0-981d-4f7e-ab31-840b334cf15a",
   "metadata": {},
   "outputs": [],
   "source": [
    "scorer = WrappedScorer(SCORER_PATH)"
   ]
  },
  {
   "cell_type": "markdown",
   "id": "79d461d9-aee7-4518-bdca-ddee7c1674ef",
   "metadata": {},
   "source": [
    "#### Performing Alignment"
   ]
  },
  {
   "cell_type": "code",
   "execution_count": 10,
   "id": "373dfcb5-b295-477b-9618-d26f5a6a9c46",
   "metadata": {},
   "outputs": [],
   "source": [
    "def perform_alignment_and_record_time(filename):\n",
    "\n",
    "    input_path = f\"{INPUT_FOLDER}/{filename}\"\n",
    "    output_path = f\"{OUTPUT_FOLDER}/{filename}\"\n",
    "    command = f\"{ALIGNER_PATH} -input {input_path} -output {output_path} -seed {SEED} -iterations {ITERATIONS}\"\n",
    "\n",
    "    start_time = time.perf_counter()\n",
    "    \n",
    "    subprocess.run(command)\n",
    "\n",
    "    end_time = time.perf_counter()\n",
    "    \n",
    "    time_in_milliseconds = (end_time - start_time) * 1000\n",
    "    time_in_milliseconds = round(time_in_milliseconds, 0)\n",
    "\n",
    "    return int(time_in_milliseconds)"
   ]
  },
  {
   "cell_type": "code",
   "execution_count": 11,
   "id": "319f089b-694f-4b1e-9058-38e3f1aa78ec",
   "metadata": {},
   "outputs": [],
   "source": [
    "def score_quality_of_produced_alignment(filename):\n",
    "\n",
    "    test_path = f\"{OUTPUT_FOLDER}/{filename}.faa\"\n",
    "    reference_path = f\"{REFERENCES_FOLDER}/{filename}\"\n",
    "    score = scorer.score_testcase(test_path, reference_path)\n",
    "\n",
    "    return score"
   ]
  },
  {
   "cell_type": "code",
   "execution_count": 12,
   "id": "89cbb7ac-54c8-4d9a-8cfa-70c38433ef5b",
   "metadata": {},
   "outputs": [],
   "source": [
    "def record_performance_on_testcase(filename):\n",
    "\n",
    "    time_taken = perform_alignment_and_record_time(testcase)\n",
    "    score = score_quality_of_produced_alignment(testcase)\n",
    "\n",
    "\n",
    "    return f\"{ALIGNER_NAME},{DATASET_NAME},{filename},{score},{time_taken}\"\n",
    "    "
   ]
  },
  {
   "cell_type": "code",
   "execution_count": 13,
   "id": "4aff89a6-339c-47c1-ab60-637ab72ec8c7",
   "metadata": {},
   "outputs": [],
   "source": [
    "HEADER = \"aligner,dataset,testcase,Q_score,time_elapsed_ms\"\n",
    "RECORDS = []\n",
    "RECORDS.append(HEADER)"
   ]
  },
  {
   "cell_type": "code",
   "execution_count": 14,
   "id": "44f14d4a-19a5-4313-bc47-f318452fe86e",
   "metadata": {},
   "outputs": [
    {
     "name": "stdout",
     "output_type": "stream",
     "text": [
      "MAli-v1.31,BALIS-1,BB11004,0.0851,10241\n",
      "MAli-v1.31,BALIS-1,BB11005,0.0512,14767\n",
      "MAli-v1.31,BALIS-1,BB11008,0.245,13136\n",
      "MAli-v1.31,BALIS-1,BB11009,0.0917,8319\n",
      "MAli-v1.31,BALIS-1,BB11011,0.115,6031\n",
      "MAli-v1.31,BALIS-1,BB11014,0.614,14710\n",
      "MAli-v1.31,BALIS-1,BB11015,0.437,7516\n",
      "MAli-v1.31,BALIS-1,BB11016,0.00779,16754\n",
      "MAli-v1.31,BALIS-1,BB11018,0.0718,23650\n",
      "MAli-v1.31,BALIS-1,BB11019,0.278,9949\n",
      "MAli-v1.31,BALIS-1,BB11021,0.231,3551\n",
      "MAli-v1.31,BALIS-1,BB11022,0.0505,5957\n",
      "MAli-v1.31,BALIS-1,BB11025,0.0526,2545\n",
      "MAli-v1.31,BALIS-1,BB11027,0.0517,9196\n",
      "MAli-v1.31,BALIS-1,BB11029,0.176,3837\n",
      "MAli-v1.31,BALIS-1,BB11031,0.0691,17059\n",
      "MAli-v1.31,BALIS-1,BB11033,0.0566,6421\n",
      "MAli-v1.31,BALIS-1,BB11038,0.199,18709\n",
      "MAli-v1.31,BALIS-1,BB12005,0.837,5030\n",
      "MAli-v1.31,BALIS-1,BB12013,0.93,16053\n",
      "MAli-v1.31,BALIS-1,BB12014,0.84,2194\n",
      "MAli-v1.31,BALIS-1,BB12016,0.658,2794\n",
      "MAli-v1.31,BALIS-1,BB12021,0.91,2185\n",
      "MAli-v1.31,BALIS-1,BB12024,0.875,5588\n",
      "MAli-v1.31,BALIS-1,BB12026,0.837,5879\n",
      "MAli-v1.31,BALIS-1,BB12028,0.523,7439\n",
      "MAli-v1.31,BALIS-1,BB12037,0.928,12744\n",
      "MAli-v1.31,BALIS-1,BB12039,0.905,7449\n",
      "MAli-v1.31,BALIS-1,BB20001,0.76,2376\n",
      "MAli-v1.31,BALIS-1,BB20003,0.412,10920\n",
      "MAli-v1.31,BALIS-1,BB20006,0.69,5825\n",
      "MAli-v1.31,BALIS-1,BB20007,0.391,14013\n",
      "MAli-v1.31,BALIS-1,BB20008,0.436,12387\n",
      "MAli-v1.31,BALIS-1,BB20012,0.00629,11823\n",
      "MAli-v1.31,BALIS-1,BB20014,0.219,5806\n",
      "MAli-v1.31,BALIS-1,BB20015,0.0,2638\n",
      "MAli-v1.31,BALIS-1,BB20017,0.317,15411\n",
      "MAli-v1.31,BALIS-1,BB20021,0.105,18720\n",
      "MAli-v1.31,BALIS-1,BB20022,0.321,10280\n",
      "MAli-v1.31,BALIS-1,BB20023,0.268,9084\n",
      "MAli-v1.31,BALIS-1,BB20024,0.0,5282\n",
      "MAli-v1.31,BALIS-1,BB20027,0.31,11416\n",
      "MAli-v1.31,BALIS-1,BB20041,0.00221,17099\n",
      "MAli-v1.31,BALIS-1,BB30001,0.701,13518\n",
      "MAli-v1.31,BALIS-1,BB30004,0.535,14368\n",
      "MAli-v1.31,BALIS-1,BB30006,0.602,14822\n",
      "MAli-v1.31,BALIS-1,BB30008,0.0332,12637\n",
      "MAli-v1.31,BALIS-1,BB30011,0.639,8288\n",
      "MAli-v1.31,BALIS-1,BB30014,0.422,6106\n",
      "MAli-v1.31,BALIS-1,BB30015,0.6,15564\n",
      "MAli-v1.31,BALIS-1,BB30016,0.0,6126\n",
      "MAli-v1.31,BALIS-1,BB30017,0.126,8224\n",
      "MAli-v1.31,BALIS-1,BB30018,0.32,10371\n",
      "MAli-v1.31,BALIS-1,BB30019,0.258,20280\n",
      "MAli-v1.31,BALIS-1,BB30021,0.0795,11998\n",
      "MAli-v1.31,BALIS-1,BB30022,0.431,2779\n",
      "MAli-v1.31,BALIS-1,BB30023,0.475,9345\n",
      "MAli-v1.31,BALIS-1,BB30025,0.213,3398\n",
      "MAli-v1.31,BALIS-1,BB30026,0.475,11194\n",
      "MAli-v1.31,BALIS-1,BB30027,0.355,4364\n",
      "MAli-v1.31,BALIS-1,BB30028,0.0,10243\n",
      "MAli-v1.31,BALIS-1,BB40008,0.538,13501\n",
      "MAli-v1.31,BALIS-1,BB40009,0.692,10885\n",
      "MAli-v1.31,BALIS-1,BB40015,0.611,3104\n",
      "MAli-v1.31,BALIS-1,BB40016,0.935,5395\n",
      "MAli-v1.31,BALIS-1,BB40018,0.69,3080\n",
      "MAli-v1.31,BALIS-1,BB40019,0.79,10829\n",
      "MAli-v1.31,BALIS-1,BB40022,0.967,5190\n",
      "MAli-v1.31,BALIS-1,BB40024,0.302,15179\n",
      "MAli-v1.31,BALIS-1,BB40025,0.799,6195\n",
      "MAli-v1.31,BALIS-1,BB40026,0.113,17971\n",
      "MAli-v1.31,BALIS-1,BB40027,0.247,9393\n",
      "MAli-v1.31,BALIS-1,BB40028,0.832,5872\n",
      "MAli-v1.31,BALIS-1,BB40029,0.738,12705\n",
      "MAli-v1.31,BALIS-1,BB40033,0.368,10366\n",
      "MAli-v1.31,BALIS-1,BB40036,0.892,10857\n",
      "MAli-v1.31,BALIS-1,BB40037,0.233,7175\n",
      "MAli-v1.31,BALIS-1,BB40038,0.505,2730\n",
      "MAli-v1.31,BALIS-1,BB40039,0.73,13258\n",
      "MAli-v1.31,BALIS-1,BB40041,0.279,29411\n",
      "MAli-v1.31,BALIS-1,BB40046,0.137,20818\n",
      "MAli-v1.31,BALIS-1,BB40049,0.312,10640\n",
      "MAli-v1.31,BALIS-1,BB50001,0.34,9640\n",
      "MAli-v1.31,BALIS-1,BB50004,0.961,9601\n",
      "MAli-v1.31,BALIS-1,BB50005,0.971,15817\n",
      "MAli-v1.31,BALIS-1,BB50007,0.16,8437\n",
      "MAli-v1.31,BALIS-1,BB50008,0.894,5739\n",
      "MAli-v1.31,BALIS-1,BB50011,0.49,7306\n",
      "MAli-v1.31,BALIS-1,BB50012,0.549,10784\n",
      "MAli-v1.31,BALIS-1,BB50014,0.737,14362\n"
     ]
    }
   ],
   "source": [
    "for testcase in testcases:\n",
    "    record = record_performance_on_testcase(testcase)\n",
    "    RECORDS.append(record)\n",
    "    print(record)"
   ]
  },
  {
   "cell_type": "code",
   "execution_count": 15,
   "id": "cb6de512-4e00-49b0-8686-50fc019876c1",
   "metadata": {},
   "outputs": [
    {
     "name": "stdout",
     "output_type": "stream",
     "text": [
      "aligner,dataset,testcase,Q_score,time_elapsed_ms\n",
      "MAli-v1.31,BALIS-1,BB50014,0.737,14362\n"
     ]
    }
   ],
   "source": [
    "print(RECORDS[0])\n",
    "print(RECORDS[-1])"
   ]
  },
  {
   "cell_type": "markdown",
   "id": "57e0a175-9359-4f6f-aff2-fae99896721e",
   "metadata": {},
   "source": [
    "#### Writing Records to CSV"
   ]
  },
  {
   "cell_type": "code",
   "execution_count": 16,
   "id": "6c0730e2-ebc4-4276-94d5-820c3953c436",
   "metadata": {},
   "outputs": [],
   "source": [
    "RESULTS_FILENAME = f\"sbench_{ALIGNER_NAME}_on_{DATASET_NAME}.csv\"\n",
    "RESULTS_FILEPATH = f\"results/{RESULTS_FILENAME}\""
   ]
  },
  {
   "cell_type": "code",
   "execution_count": 17,
   "id": "0726aca2-f49a-4c32-b644-30b63de52587",
   "metadata": {},
   "outputs": [],
   "source": [
    "with open(RESULTS_FILEPATH, \"w\") as file:\n",
    "    for record in RECORDS:\n",
    "        file.write(record)\n",
    "        file.write(\"\\n\")"
   ]
  },
  {
   "cell_type": "code",
   "execution_count": 18,
   "id": "125487ea-e1a0-441e-9ce8-fe0c63cdd1d4",
   "metadata": {},
   "outputs": [
    {
     "name": "stdout",
     "output_type": "stream",
     "text": [
      "Results written to: results/sbench_MAli-v1.31_on_BALIS-1.csv\n"
     ]
    }
   ],
   "source": [
    "print(f\"Results written to: {RESULTS_FILEPATH}\")"
   ]
  },
  {
   "cell_type": "markdown",
   "id": "03f11577-b04c-4b96-b03d-a7fc91e778fe",
   "metadata": {},
   "source": [
    "#### Previewing Results"
   ]
  },
  {
   "cell_type": "code",
   "execution_count": 19,
   "id": "3e8c54bc-1824-4f3b-a1d4-b6b10feed426",
   "metadata": {},
   "outputs": [
    {
     "data": {
      "text/html": [
       "<div>\n",
       "<style scoped>\n",
       "    .dataframe tbody tr th:only-of-type {\n",
       "        vertical-align: middle;\n",
       "    }\n",
       "\n",
       "    .dataframe tbody tr th {\n",
       "        vertical-align: top;\n",
       "    }\n",
       "\n",
       "    .dataframe thead th {\n",
       "        text-align: right;\n",
       "    }\n",
       "</style>\n",
       "<table border=\"1\" class=\"dataframe\">\n",
       "  <thead>\n",
       "    <tr style=\"text-align: right;\">\n",
       "      <th></th>\n",
       "      <th>aligner</th>\n",
       "      <th>dataset</th>\n",
       "      <th>testcase</th>\n",
       "      <th>Q_score</th>\n",
       "      <th>time_elapsed_ms</th>\n",
       "    </tr>\n",
       "  </thead>\n",
       "  <tbody>\n",
       "    <tr>\n",
       "      <th>0</th>\n",
       "      <td>MAli-v1.31</td>\n",
       "      <td>BALIS-1</td>\n",
       "      <td>BB11004</td>\n",
       "      <td>0.0851</td>\n",
       "      <td>10241</td>\n",
       "    </tr>\n",
       "    <tr>\n",
       "      <th>1</th>\n",
       "      <td>MAli-v1.31</td>\n",
       "      <td>BALIS-1</td>\n",
       "      <td>BB11005</td>\n",
       "      <td>0.0512</td>\n",
       "      <td>14767</td>\n",
       "    </tr>\n",
       "    <tr>\n",
       "      <th>2</th>\n",
       "      <td>MAli-v1.31</td>\n",
       "      <td>BALIS-1</td>\n",
       "      <td>BB11008</td>\n",
       "      <td>0.2450</td>\n",
       "      <td>13136</td>\n",
       "    </tr>\n",
       "    <tr>\n",
       "      <th>3</th>\n",
       "      <td>MAli-v1.31</td>\n",
       "      <td>BALIS-1</td>\n",
       "      <td>BB11009</td>\n",
       "      <td>0.0917</td>\n",
       "      <td>8319</td>\n",
       "    </tr>\n",
       "    <tr>\n",
       "      <th>4</th>\n",
       "      <td>MAli-v1.31</td>\n",
       "      <td>BALIS-1</td>\n",
       "      <td>BB11011</td>\n",
       "      <td>0.1150</td>\n",
       "      <td>6031</td>\n",
       "    </tr>\n",
       "  </tbody>\n",
       "</table>\n",
       "</div>"
      ],
      "text/plain": [
       "      aligner  dataset testcase  Q_score  time_elapsed_ms\n",
       "0  MAli-v1.31  BALIS-1  BB11004   0.0851            10241\n",
       "1  MAli-v1.31  BALIS-1  BB11005   0.0512            14767\n",
       "2  MAli-v1.31  BALIS-1  BB11008   0.2450            13136\n",
       "3  MAli-v1.31  BALIS-1  BB11009   0.0917             8319\n",
       "4  MAli-v1.31  BALIS-1  BB11011   0.1150             6031"
      ]
     },
     "execution_count": 19,
     "metadata": {},
     "output_type": "execute_result"
    }
   ],
   "source": [
    "df = pd.read_csv(RESULTS_FILEPATH)\n",
    "df.head()"
   ]
  },
  {
   "cell_type": "code",
   "execution_count": null,
   "id": "31cb4746-1d2c-4f4d-a0c0-8df85d83a2db",
   "metadata": {},
   "outputs": [],
   "source": []
  }
 ],
 "metadata": {
  "kernelspec": {
   "display_name": "Python 3 (ipykernel)",
   "language": "python",
   "name": "python3"
  },
  "language_info": {
   "codemirror_mode": {
    "name": "ipython",
    "version": 3
   },
   "file_extension": ".py",
   "mimetype": "text/x-python",
   "name": "python",
   "nbconvert_exporter": "python",
   "pygments_lexer": "ipython3",
   "version": "3.10.4"
  }
 },
 "nbformat": 4,
 "nbformat_minor": 5
}

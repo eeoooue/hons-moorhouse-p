{
 "cells": [
  {
   "cell_type": "markdown",
   "id": "8bf3a1ba-88af-49e0-b29c-a3feca474233",
   "metadata": {},
   "source": [
    "## Release Testing: MAli-v0.1 on BALIS-2"
   ]
  },
  {
   "cell_type": "markdown",
   "id": "19697014-a06c-49eb-ae90-5d969dba7895",
   "metadata": {},
   "source": [
    "#### Imports"
   ]
  },
  {
   "cell_type": "code",
   "execution_count": 1,
   "id": "3b5cc5ef-f78b-4758-983c-8c4ab2b46ea2",
   "metadata": {},
   "outputs": [],
   "source": [
    "import os\n",
    "import shutil\n",
    "import subprocess\n",
    "import time\n",
    "import pandas as pd"
   ]
  },
  {
   "cell_type": "code",
   "execution_count": 2,
   "id": "127275a1-ecfd-4ace-ad7f-2647380d22b0",
   "metadata": {},
   "outputs": [],
   "source": [
    "from wrapped_scorer import WrappedScorer"
   ]
  },
  {
   "cell_type": "markdown",
   "id": "ea019136-fad4-48de-afe0-741c182d10a2",
   "metadata": {},
   "source": [
    "#### MAli"
   ]
  },
  {
   "cell_type": "code",
   "execution_count": 3,
   "id": "474037b1-704b-4ffc-86f0-6271c4ebb82f",
   "metadata": {},
   "outputs": [],
   "source": [
    "SEED = 9032025"
   ]
  },
  {
   "cell_type": "code",
   "execution_count": 4,
   "id": "323cf1e4-d98c-4488-9180-ea330d582e4b",
   "metadata": {},
   "outputs": [],
   "source": [
    "ALIGNER_NAME = \"MAli-v0.1\"\n",
    "ALIGNER_PATH = f\"aligners/{ALIGNER_NAME}/MAli.exe\"\n",
    "OUTPUT_FOLDER = f\"aligners/{ALIGNER_NAME}/output\""
   ]
  },
  {
   "cell_type": "code",
   "execution_count": 5,
   "id": "652070cc-cc6e-4b31-a704-65f42e0331f1",
   "metadata": {},
   "outputs": [],
   "source": [
    "# creating empty output folder\n",
    "if os.path.exists(OUTPUT_FOLDER):\n",
    "    shutil.rmtree(OUTPUT_FOLDER)\n",
    "os.makedirs(OUTPUT_FOLDER)"
   ]
  },
  {
   "cell_type": "code",
   "execution_count": 6,
   "id": "b1489028-16ad-42c6-b40f-df44235a7d57",
   "metadata": {},
   "outputs": [],
   "source": [
    "RESULTS_FILE_DIRECTORY = f\"results/{ALIGNER_NAME}\""
   ]
  },
  {
   "cell_type": "code",
   "execution_count": 7,
   "id": "f5719b8e-ec31-47ec-a5ef-f73c9f4899bb",
   "metadata": {},
   "outputs": [],
   "source": [
    "# creating empty output folder\n",
    "if os.path.exists(RESULTS_FILE_DIRECTORY):\n",
    "    shutil.rmtree(RESULTS_FILE_DIRECTORY)\n",
    "os.makedirs(RESULTS_FILE_DIRECTORY)"
   ]
  },
  {
   "cell_type": "markdown",
   "id": "64a35a7c-99cf-42da-944a-76e0725b251f",
   "metadata": {},
   "source": [
    "#### BALIS-2"
   ]
  },
  {
   "cell_type": "code",
   "execution_count": 8,
   "id": "967ca9e5-eb37-4b0e-8059-bcca034eb3ab",
   "metadata": {},
   "outputs": [],
   "source": [
    "DATASET_NAME = \"BALIS-2\"\n",
    "DATASET_FOLDER = f\"datasets/{DATASET_NAME}\"\n",
    "INPUT_FOLDER = f\"{DATASET_FOLDER}/in\"\n",
    "REFERENCES_FOLDER = f\"{DATASET_FOLDER}/ref\""
   ]
  },
  {
   "cell_type": "code",
   "execution_count": 9,
   "id": "10056b82-c4b3-455a-86d5-32dd99a0053b",
   "metadata": {},
   "outputs": [
    {
     "name": "stdout",
     "output_type": "stream",
     "text": [
      "['BB11001', 'BB11002', 'BB11003', 'BB11006', 'BB11007', 'BB11010', 'BB11012', 'BB11013', 'BB11017', 'BB11020']\n"
     ]
    }
   ],
   "source": [
    "# checking that testcases have been found\n",
    "testcases = os.listdir(INPUT_FOLDER)\n",
    "print(testcases[:10])"
   ]
  },
  {
   "cell_type": "markdown",
   "id": "89bffbb7-05d0-48a0-b63c-cd233b47a7dc",
   "metadata": {},
   "source": [
    "#### QScore"
   ]
  },
  {
   "cell_type": "code",
   "execution_count": 10,
   "id": "f4e38849-e72a-40e3-b355-855146a3db36",
   "metadata": {},
   "outputs": [],
   "source": [
    "SCORER_PATH = \"scorers/QScore/qscore.exe\""
   ]
  },
  {
   "cell_type": "code",
   "execution_count": 11,
   "id": "4de21ae0-981d-4f7e-ab31-840b334cf15a",
   "metadata": {},
   "outputs": [],
   "source": [
    "scorer = WrappedScorer(SCORER_PATH)"
   ]
  },
  {
   "cell_type": "markdown",
   "id": "79d461d9-aee7-4518-bdca-ddee7c1674ef",
   "metadata": {},
   "source": [
    "#### Performing Alignment"
   ]
  },
  {
   "cell_type": "code",
   "execution_count": 12,
   "id": "373dfcb5-b295-477b-9618-d26f5a6a9c46",
   "metadata": {},
   "outputs": [],
   "source": [
    "def perform_alignment_and_record_time(filename):\n",
    "\n",
    "    input_path = f\"{INPUT_FOLDER}/{filename}\"\n",
    "    output_path = f\"{OUTPUT_FOLDER}/{filename}\"\n",
    "    command = f\"{ALIGNER_PATH} -input {input_path} -output {output_path} -seed {SEED}\"\n",
    "\n",
    "    start_time = time.perf_counter()\n",
    "    \n",
    "    subprocess.run(command)\n",
    "\n",
    "    end_time = time.perf_counter()\n",
    "    \n",
    "    time_in_milliseconds = (end_time - start_time) * 1000\n",
    "    time_in_milliseconds = round(time_in_milliseconds, 0)\n",
    "\n",
    "    return int(time_in_milliseconds)"
   ]
  },
  {
   "cell_type": "code",
   "execution_count": 13,
   "id": "319f089b-694f-4b1e-9058-38e3f1aa78ec",
   "metadata": {},
   "outputs": [],
   "source": [
    "def score_quality_of_produced_alignment(filename):\n",
    "\n",
    "    test_path = f\"{OUTPUT_FOLDER}/{filename}\"\n",
    "    reference_path = f\"{REFERENCES_FOLDER}/{filename}\"\n",
    "    score = scorer.score_testcase(test_path, reference_path)\n",
    "\n",
    "    return score"
   ]
  },
  {
   "cell_type": "code",
   "execution_count": 14,
   "id": "89cbb7ac-54c8-4d9a-8cfa-70c38433ef5b",
   "metadata": {},
   "outputs": [],
   "source": [
    "def record_performance_on_testcase(filename):\n",
    "\n",
    "    time_taken = perform_alignment_and_record_time(testcase)\n",
    "    score = score_quality_of_produced_alignment(testcase)\n",
    "\n",
    "\n",
    "    return f\"{ALIGNER_NAME},{DATASET_NAME},{filename},{score},{time_taken}\"\n",
    "    "
   ]
  },
  {
   "cell_type": "code",
   "execution_count": 15,
   "id": "05901758-69c5-43fb-bc0e-331b619679d6",
   "metadata": {},
   "outputs": [],
   "source": [
    "def write_records_to_csv(records, filename):\n",
    "\n",
    "    RESULTS_FILEPATH = f\"{RESULTS_FILE_DIRECTORY}/{filename}\"\n",
    "\n",
    "    with open(RESULTS_FILEPATH, \"w\") as file:\n",
    "        for record in RECORDS:\n",
    "            file.write(record)\n",
    "            file.write(\"\\n\")\n",
    "\n",
    "    print(f\"Results written to: {RESULTS_FILEPATH}\")"
   ]
  },
  {
   "cell_type": "code",
   "execution_count": 16,
   "id": "4aff89a6-339c-47c1-ab60-637ab72ec8c7",
   "metadata": {},
   "outputs": [],
   "source": [
    "HEADER = \"aligner,dataset,testcase,Q_score,time_elapsed_ms\""
   ]
  },
  {
   "cell_type": "code",
   "execution_count": 17,
   "id": "44f14d4a-19a5-4313-bc47-f318452fe86e",
   "metadata": {},
   "outputs": [
    {
     "name": "stdout",
     "output_type": "stream",
     "text": [
      "MAli-v0.1,BALIS-2,BB11001,0.0497,54\n",
      "MAli-v0.1,BALIS-2,BB11002,0.0168,56\n",
      "MAli-v0.1,BALIS-2,BB11003,0.0115,55\n",
      "MAli-v0.1,BALIS-2,BB11006,0.00595,56\n",
      "MAli-v0.1,BALIS-2,BB11007,0.0575,55\n",
      "MAli-v0.1,BALIS-2,BB11010,0.0,53\n",
      "MAli-v0.1,BALIS-2,BB11012,0.0219,53\n",
      "MAli-v0.1,BALIS-2,BB11013,0.0103,54\n",
      "MAli-v0.1,BALIS-2,BB11017,0.0574,53\n",
      "MAli-v0.1,BALIS-2,BB11020,0.033,54\n",
      "MAli-v0.1,BALIS-2,BB11023,0.0215,54\n",
      "MAli-v0.1,BALIS-2,BB11024,0.0,52\n",
      "MAli-v0.1,BALIS-2,BB11026,0.0,54\n",
      "MAli-v0.1,BALIS-2,BB11028,0.0211,53\n",
      "MAli-v0.1,BALIS-2,BB11030,0.0177,59\n",
      "MAli-v0.1,BALIS-2,BB11032,0.023,55\n",
      "MAli-v0.1,BALIS-2,BB11034,0.00607,56\n",
      "MAli-v0.1,BALIS-2,BB11035,0.0297,106\n",
      "MAli-v0.1,BALIS-2,BB11036,0.0194,59\n",
      "MAli-v0.1,BALIS-2,BB12001,0.0109,53\n",
      "MAli-v0.1,BALIS-2,BB12003,0.198,54\n",
      "MAli-v0.1,BALIS-2,BB12006,0.11,55\n",
      "MAli-v0.1,BALIS-2,BB12008,0.104,59\n",
      "MAli-v0.1,BALIS-2,BB12015,0.0278,59\n",
      "MAli-v0.1,BALIS-2,BB12017,0.0243,55\n",
      "MAli-v0.1,BALIS-2,BB12020,0.159,52\n",
      "MAli-v0.1,BALIS-2,BB12022,0.0327,53\n",
      "MAli-v0.1,BALIS-2,BB12025,0.224,55\n",
      "MAli-v0.1,BALIS-2,BB12032,0.248,54\n",
      "MAli-v0.1,BALIS-2,BB12033,0.0104,51\n",
      "MAli-v0.1,BALIS-2,BB12035,0.0819,51\n",
      "MAli-v0.1,BALIS-2,BB12036,0.0376,51\n",
      "MAli-v0.1,BALIS-2,BB12038,0.14,52\n",
      "MAli-v0.1,BALIS-2,BB12041,0.0804,50\n",
      "MAli-v0.1,BALIS-2,BB12043,0.0923,50\n",
      "MAli-v0.1,BALIS-2,BB20002,0.0,53\n",
      "MAli-v0.1,BALIS-2,BB20005,0.0225,54\n",
      "MAli-v0.1,BALIS-2,BB20010,0.0441,51\n",
      "MAli-v0.1,BALIS-2,BB20016,0.0198,51\n",
      "MAli-v0.1,BALIS-2,BB20018,0.0278,53\n",
      "MAli-v0.1,BALIS-2,BB20019,0.0133,53\n",
      "MAli-v0.1,BALIS-2,BB20020,0.044,52\n",
      "MAli-v0.1,BALIS-2,BB20025,0.0,51\n",
      "MAli-v0.1,BALIS-2,BB20026,0.0,52\n",
      "MAli-v0.1,BALIS-2,BB20028,0.0106,53\n",
      "MAli-v0.1,BALIS-2,BB20029,0.023,52\n",
      "MAli-v0.1,BALIS-2,BB20030,0.0625,51\n",
      "MAli-v0.1,BALIS-2,BB20031,0.0111,54\n",
      "MAli-v0.1,BALIS-2,BB20032,0.0424,57\n",
      "MAli-v0.1,BALIS-2,BB20033,0.128,52\n",
      "MAli-v0.1,BALIS-2,BB20034,0.00935,51\n",
      "MAli-v0.1,BALIS-2,BB20035,0.0143,52\n",
      "MAli-v0.1,BALIS-2,BB20036,0.0037,54\n",
      "MAli-v0.1,BALIS-2,BB20037,0.0179,56\n",
      "MAli-v0.1,BALIS-2,BB20038,0.00952,53\n",
      "MAli-v0.1,BALIS-2,BB20039,0.00485,52\n",
      "MAli-v0.1,BALIS-2,BB20040,0.034,53\n",
      "MAli-v0.1,BALIS-2,BB30002,0.00646,51\n",
      "MAli-v0.1,BALIS-2,BB30003,0.0135,53\n",
      "MAli-v0.1,BALIS-2,BB30005,0.0684,52\n",
      "MAli-v0.1,BALIS-2,BB30009,0.0494,52\n",
      "MAli-v0.1,BALIS-2,BB30010,0.0216,51\n",
      "MAli-v0.1,BALIS-2,BB30012,0.0429,53\n",
      "MAli-v0.1,BALIS-2,BB30013,0.00957,53\n",
      "MAli-v0.1,BALIS-2,BB30020,0.00476,53\n",
      "MAli-v0.1,BALIS-2,BB30024,0.0162,53\n",
      "MAli-v0.1,BALIS-2,BB30030,0.0178,53\n",
      "MAli-v0.1,BALIS-2,BB40002,0.01,52\n",
      "MAli-v0.1,BALIS-2,BB40006,0.0444,53\n",
      "MAli-v0.1,BALIS-2,BB40011,0.0299,52\n",
      "MAli-v0.1,BALIS-2,BB40012,0.0177,53\n",
      "MAli-v0.1,BALIS-2,BB40013,0.0229,54\n",
      "MAli-v0.1,BALIS-2,BB40014,0.0823,54\n",
      "MAli-v0.1,BALIS-2,BB40017,0.0253,51\n",
      "MAli-v0.1,BALIS-2,BB40023,0.0721,54\n",
      "MAli-v0.1,BALIS-2,BB40030,0.0171,53\n",
      "MAli-v0.1,BALIS-2,BB40034,0.00219,54\n",
      "MAli-v0.1,BALIS-2,BB40035,0.0833,51\n",
      "MAli-v0.1,BALIS-2,BB40040,0.119,53\n",
      "MAli-v0.1,BALIS-2,BB40042,0.026,54\n",
      "MAli-v0.1,BALIS-2,BB40043,0.005,52\n",
      "MAli-v0.1,BALIS-2,BB40044,0.0107,57\n",
      "MAli-v0.1,BALIS-2,BB40045,0.0842,51\n",
      "MAli-v0.1,BALIS-2,BB50002,0.00824,59\n",
      "MAli-v0.1,BALIS-2,BB50003,0.066,52\n",
      "MAli-v0.1,BALIS-2,BB50006,0.00292,53\n",
      "MAli-v0.1,BALIS-2,BB50009,0.004,51\n",
      "MAli-v0.1,BALIS-2,BB50010,0.0,53\n",
      "MAli-v0.1,BALIS-2,BB50013,0.0,52\n",
      "MAli-v0.1,BALIS-2,BB50015,0.00739,52\n",
      "Results written to: results/MAli-v0.1/sbench_MAli-v0.1_on_BALIS-2.csv\n"
     ]
    }
   ],
   "source": [
    "RECORDS = []\n",
    "RECORDS.append(HEADER)\n",
    "\n",
    "RESULTS_FILENAME = f\"sbench_{ALIGNER_NAME}_on_{DATASET_NAME}.csv\"\n",
    "RESULTS_FILEPATH = f\"results/{RESULTS_FILENAME}\"\n",
    "for testcase in testcases:\n",
    "    record = record_performance_on_testcase(testcase)\n",
    "    print(record)\n",
    "    RECORDS.append(record)\n",
    "\n",
    "write_records_to_csv(RECORDS, RESULTS_FILENAME)"
   ]
  }
 ],
 "metadata": {
  "kernelspec": {
   "display_name": "Python 3 (ipykernel)",
   "language": "python",
   "name": "python3"
  },
  "language_info": {
   "codemirror_mode": {
    "name": "ipython",
    "version": 3
   },
   "file_extension": ".py",
   "mimetype": "text/x-python",
   "name": "python",
   "nbconvert_exporter": "python",
   "pygments_lexer": "ipython3",
   "version": "3.10.4"
  }
 },
 "nbformat": 4,
 "nbformat_minor": 5
}

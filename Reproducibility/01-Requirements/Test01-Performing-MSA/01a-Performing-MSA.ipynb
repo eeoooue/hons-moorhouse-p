{
 "cells": [
  {
   "cell_type": "markdown",
   "id": "8bf3a1ba-88af-49e0-b29c-a3feca474233",
   "metadata": {},
   "source": [
    "# Test 01: Performing Multiple Sequence Alignment"
   ]
  },
  {
   "cell_type": "markdown",
   "id": "69786009-37cf-4381-9e76-a849f764dbc9",
   "metadata": {},
   "source": [
    "### Overview\n",
    "\n",
    "This notebook demonstrates alignment of a set of 6 sequences from a BAliBASE testcase using MAli v1.31.\n",
    "\n",
    "The resulting alignment is then scored against a structural reference as this is a helpful way of showing that the output is valid.\n",
    "\n",
    "Expected runtime: ~30 seconds or less"
   ]
  },
  {
   "cell_type": "markdown",
   "id": "95bba5c0-d8e8-4aee-90da-7a9985d5966e",
   "metadata": {
    "jp-MarkdownHeadingCollapsed": true
   },
   "source": [
    "### Context\n",
    "\n",
    "This notebook is intended to test the following requirements of MAli:\n",
    "\n",
    "**Requirement 1.1** - Given sequences to align, produces a valid solution - independent of quality.\n",
    "- An alignment is performed, with the output shown below and scored against a reference using QScore. Invalid alignments would receive a score of 0.0 or yield no score at all.\n",
    "\n",
    "**Requirement 1.2** - Employs a heuristic to estimate a number of iterations needed to align each set of sequences.\n",
    "- MAli is invoked without specifying how many seconds or iterations to spend on alignment. MAli generally spends ~5 seconds on alignment by default.\n",
    "\n",
    "**Requirement 1.3** - Aligns sets of 6 typical protein sequences within 10 seconds on a university machine.\n",
    "- Every testcase in /data contains 6 biological sequences. As such, this notebook demonstrates alignment of a 6-sequence testcase within 10 seconds.\n",
    "\n",
    "**Requirement 2.1** - Employs a metaheuristic algorithm (such as Genetic Algorithm) to guide the alignment process.\n",
    "- MAli v1.31 uses a mew + lambda evolutionary algorithm to perform multiple sequence alignment, as demonstrated below.\n",
    "\n",
    "**Requirement 3.1** - Can load a set of biological sequences from an appropriate bioinformatics file format.\n",
    "- The input testcases for this demo are in the FASTA file format.\n",
    "\n",
    "**Requirement 3.2** - Can output aligned sets of sequences using an appropriate bioinformatics file format.\n",
    "- The output alignments for this demo are in the FASTA file format."
   ]
  },
  {
   "cell_type": "markdown",
   "id": "6b62cc18-cd64-4a9c-b224-9ecc958baeed",
   "metadata": {},
   "source": [
    "### Installing Prerequisites"
   ]
  },
  {
   "cell_type": "code",
   "execution_count": 1,
   "id": "a7a8cdd8-81d2-4f09-b620-6f624f59f9a5",
   "metadata": {},
   "outputs": [
    {
     "name": "stdout",
     "output_type": "stream",
     "text": [
      "Requirement already satisfied: biopython in c:\\users\\pdmoo\\appdata\\local\\programs\\python\\python310\\lib\\site-packages (1.85)\n",
      "Requirement already satisfied: numpy in c:\\users\\pdmoo\\appdata\\local\\programs\\python\\python310\\lib\\site-packages (from biopython) (1.26.2)\n"
     ]
    }
   ],
   "source": [
    "!pip install biopython"
   ]
  },
  {
   "cell_type": "markdown",
   "id": "19697014-a06c-49eb-ae90-5d969dba7895",
   "metadata": {},
   "source": [
    "#### Imports"
   ]
  },
  {
   "cell_type": "code",
   "execution_count": 2,
   "id": "3b5cc5ef-f78b-4758-983c-8c4ab2b46ea2",
   "metadata": {},
   "outputs": [],
   "source": [
    "import os\n",
    "import shutil\n",
    "import subprocess\n",
    "import time\n",
    "from presentation_helper import PresentationHelper\n",
    "from wrapped_scorer import WrappedScorer"
   ]
  },
  {
   "cell_type": "markdown",
   "id": "ea019136-fad4-48de-afe0-741c182d10a2",
   "metadata": {},
   "source": [
    "#### MAli v1.31"
   ]
  },
  {
   "cell_type": "code",
   "execution_count": 3,
   "id": "323cf1e4-d98c-4488-9180-ea330d582e4b",
   "metadata": {},
   "outputs": [],
   "source": [
    "ALIGNER_NAME = \"MAli-v1.31\"\n",
    "ALIGNER_PATH = \"MAli-v1.31/MAli.exe\"\n",
    "OUTPUT_FOLDER = \"data/output\""
   ]
  },
  {
   "cell_type": "code",
   "execution_count": 4,
   "id": "652070cc-cc6e-4b31-a704-65f42e0331f1",
   "metadata": {},
   "outputs": [],
   "source": [
    "# creating empty output folder\n",
    "if os.path.exists(OUTPUT_FOLDER):\n",
    "    shutil.rmtree(OUTPUT_FOLDER)\n",
    "os.makedirs(OUTPUT_FOLDER)"
   ]
  },
  {
   "cell_type": "markdown",
   "id": "64a35a7c-99cf-42da-944a-76e0725b251f",
   "metadata": {},
   "source": [
    "#### Testcase"
   ]
  },
  {
   "cell_type": "markdown",
   "id": "91ae3376-5912-4d82-a115-fd6dce63f2c9",
   "metadata": {},
   "source": [
    "The BB20016 testcase from BAliBASE has been chosen as it contains 6 biological sequences and has a structural reference available.\n",
    "\n",
    "All testcases from BALIS-2 (subset of BAliBASE used for development) containing 6 sequences have been included in /data"
   ]
  },
  {
   "cell_type": "code",
   "execution_count": 5,
   "id": "967ca9e5-eb37-4b0e-8059-bcca034eb3ab",
   "metadata": {},
   "outputs": [],
   "source": [
    "TESTCASE_NAME = \"BB20016\"\n",
    "INPUT_FILEPATH = f\"data/input/{TESTCASE_NAME}\"\n",
    "OUTPUT_FILEPATH = f\"data/output/{TESTCASE_NAME}\""
   ]
  },
  {
   "cell_type": "markdown",
   "id": "fef08151-fe53-4947-a990-4f38f5500f83",
   "metadata": {},
   "source": [
    "#### Viewing Testcase"
   ]
  },
  {
   "cell_type": "code",
   "execution_count": 6,
   "id": "36ad9d00-ceb7-4f43-a791-4f1839506d75",
   "metadata": {},
   "outputs": [],
   "source": [
    "presenter = PresentationHelper()"
   ]
  },
  {
   "cell_type": "code",
   "execution_count": 7,
   "id": "3830886d-d4b1-4400-861f-d46f8361ee9a",
   "metadata": {},
   "outputs": [
    {
     "name": "stdout",
     "output_type": "stream",
     "text": [
      "Displaying Sequences from data/input/BB20016: \n",
      "\n",
      ">1a7x_A\n",
      "GVQVETISPGDGRTFPKRGQTCVVHYTGMLEDGKKFDSSRDRNKPFKFMLGKQEVIRGWEEGVAQMSVGQRAKLTISPDYAYGATGHPGIIPPHATLVFDVELLKLE\n",
      "\n",
      ">1jvw_A\n",
      "AASHEERMNNYRKRVGRLFMEQKAAQPDAVKLPSGLVFQRIARGSGKRAPAIDDKCEVHYTGRLRDGTVFDSSRERGKPTTFRPNEVIKGWTEALQLMREGDRWRLFIPYDLAYGVTGGGGMIPPYSPLEFDVELISIKDGGKGRTAEEVDEILRKAEED\n",
      "\n",
      ">1kt0_A\n",
      "VLKIVTPMIGDKVYVHYKGKLFDSPFVFSLGKGQVIKAWDIGVATMKRGEICHLLCKPEYAYGSAGSLPKIPSNATLFFEIELLDFKGEDLFEDGGIIRRTKRKGEGYSNPNEGATVEIHLEGRCGGRMFDCRDVAFTVGEGEDHDIPIGIDKALEKMQREEQCILYLGPRYGFGEAGKPKFGIEPNAELIYEVTLKSFEKAKESWEMDTKEKLEQAAIVKEKGTVYFKGGKYMQAVIQYGKIVSWLEMEYGLSEKESKASESFLLAAFLNLAMCYLKLREYTKAVECCDKALGLDSANEKGLYRRGEAQLLMNEFESAKGDFEKVLEVNAARLQISMCQKKAKEHNERDRRIYANM\n",
      "\n",
      ">1pbk_\n",
      "PKYTKSVLKKGDKTNFPKKGDVVHCWYTGTLQDGTVFDTNIQTSAKKKKNAKPLSFKVGVGKVIRGWDEALLTMSKGEKARLEIEPEWAYGKKGQPDAKIPPNAKLTFEVELVDID\n",
      "\n",
      ">1r9h_A\n",
      "KIDITPKKDGGVLKLIKKEGQGVVKPTTGTTVKVHYVGTLENGTKFDSSRDRGDQFSFNLGRGNVIKGWDLGVATMTKGEVAEFTIRSDYGYGDAGSPPKIPGGATLIFEVELFEWSA\n",
      "\n",
      ">1l1p_A\n",
      "GSHMQATWKEKDGAVEAEDRVTIDFTGSVDGEEFEGGKASDFVLAMGQGRMIPGFEDGIKGHKAGEEFTIDVTFPEEYHAENLKGKAAKFAINLKKVEERELPELT\n",
      "\n"
     ]
    }
   ],
   "source": [
    "presenter.present_unaligned_fasta(INPUT_FILEPATH)"
   ]
  },
  {
   "cell_type": "markdown",
   "id": "79d461d9-aee7-4518-bdca-ddee7c1674ef",
   "metadata": {},
   "source": [
    "#### Performing Alignment"
   ]
  },
  {
   "cell_type": "code",
   "execution_count": 8,
   "id": "8726c502-1848-46c6-89fd-b4b29d0226a5",
   "metadata": {},
   "outputs": [
    {
     "name": "stdout",
     "output_type": "stream",
     "text": [
      "CLI command to be run: 'MAli-v1.31/MAli.exe -input data/input/BB20016 -output data/output/BB20016'\n"
     ]
    }
   ],
   "source": [
    "ALIGNMENT_COMMAND = f\"{ALIGNER_PATH} -input {INPUT_FILEPATH} -output {OUTPUT_FILEPATH}\"\n",
    "print(f\"CLI command to be run: '{ALIGNMENT_COMMAND}'\")"
   ]
  },
  {
   "cell_type": "code",
   "execution_count": 9,
   "id": "373dfcb5-b295-477b-9618-d26f5a6a9c46",
   "metadata": {},
   "outputs": [
    {
     "name": "stdout",
     "output_type": "stream",
     "text": [
      "Performed alignment of BB20016 in 5.158 seconds\n"
     ]
    }
   ],
   "source": [
    "start_time = time.perf_counter()\n",
    "subprocess.run(ALIGNMENT_COMMAND)\n",
    "end_time = time.perf_counter()\n",
    "\n",
    "time_in_milliseconds = (end_time - start_time) * 1000\n",
    "time_in_milliseconds_rounded = round(time_in_milliseconds, 0)\n",
    "time_in_seconds = time_in_milliseconds_rounded / 1000\n",
    "\n",
    "print(f\"Performed alignment of {TESTCASE_NAME} in {time_in_seconds} seconds\")"
   ]
  },
  {
   "cell_type": "markdown",
   "id": "d3c0e641-0739-460e-abb8-270b2d86a2d4",
   "metadata": {},
   "source": [
    "#### Viewing Alignment Produced by MAli"
   ]
  },
  {
   "cell_type": "code",
   "execution_count": 10,
   "id": "6bfa15ed-4c4b-4781-86c8-d1e94391a476",
   "metadata": {},
   "outputs": [
    {
     "name": "stdout",
     "output_type": "stream",
     "text": [
      "Displaying interleaved alignment from 'data/output/BB20016.faa: \n",
      "\n",
      "1a7x_A          ------------------------------------------------------------\n",
      "1jvw_A          ------------------------------------------------------------\n",
      "1kt0_A          VLKIVTPMIGDKVYVHYKGKLFDSPFVFSLGKGQVIKAWDIGVATMKRGEICHLLCKPEY\n",
      "1pbk_           ------------------------------------------------------------\n",
      "1r9h_A          ------------------------------------------------------------\n",
      "1l1p_A          ------------------------------------------------------------\n",
      "\n",
      "1a7x_A          ------------------------------------------------------------\n",
      "1jvw_A          ------------------------------------------------------------\n",
      "1kt0_A          AYGSAGSLPKIPSNATLFFEIELLDFKGEDLFEDGGIIRRTKRKGEGYSNPNEGATVEIH\n",
      "1pbk_           ------------------------------------------------------------\n",
      "1r9h_A          ------------------------------------------------------------\n",
      "1l1p_A          ------------------------------------------------------------\n",
      "\n",
      "1a7x_A          -------------------------------------------------------GV---\n",
      "1jvw_A          -------------------AAS-HEERMNNYRKRVGRLFMEQKAAQPDAVKLPSGLVFQR\n",
      "1kt0_A          LEGRCGGRMFDCRDVAFTVGEGEDHDIPIGIDKALEKMQREEQCILYLGPRYGFGEA---\n",
      "1pbk_           ---------------------------------------------------PKYTKSVL-\n",
      "1r9h_A          --------------------------------------------------------KIDI\n",
      "1l1p_A          -------------------------------------------------------GS---\n",
      "\n",
      "1a7x_A          ---Q--VE-T-ISP-GDGRTFPKRGQTCVVH--YTGMLEDGKKFD----SS-R-DRN-KP\n",
      "1jvw_A          IARGSGKRAPAIDDKCE------------VH--YTGRLRDGTVFD---S-S-RE-RG-KP\n",
      "1kt0_A          ---G--KP-K-FGI-EPNAELIYEV--TLKSFEK----------------AKESWE----\n",
      "1pbk_           ---K--K--------GDKTNFPKKG-DV-VHCWYTGTLQDGTVFDTNIQTSAKKKKNAKP\n",
      "1r9h_A          TPKKDGGVLKLIKKEGQGVVKPTTGTTVKVH--YVGTLENGTKFD----SS-R-DRG-DQ\n",
      "1l1p_A          ---H--MQAT-WKE-KDGAVEAEDRVTID----FTGSV-DGEEFE----GG-K-ASD---\n",
      "\n",
      "1a7x_A          FKFMLGKQE-VIRGWEEGVAQMSVGQRAKLTISPDYAYGATGHP-GIIPPHA-TL--VFD\n",
      "1jvw_A          TTF---RPNEVIKGWTEALQLMREGDRWRLFIPYDLAYGVTGGG-GMIPPYS-PL--EFD\n",
      "1kt0_A          -----------------------MDTKEKLE-------------QAAIVKEKGTVYFKGG\n",
      "1pbk_           LSFKVGVGK-VIRGWDEALLTMSKGEKARLEIEPEWAYGKKGQPDAKIPPNA-KL--TFE\n",
      "1r9h_A          FSFNLGRGN-VIKGWDLGVATMTKGEVAEFTIRSDYGYGDAGSP-PKIPGGA-TL--IFE\n",
      "1l1p_A          FVLAMGQGR-MIPGFEDGIKGHKAGEEFTIDVTFPEEYHAENLK-GKAAKFAINLKKVEE\n",
      "\n",
      "1a7x_A          VELLKLE-----------------------------------------------------\n",
      "1jvw_A          VELISIKDGGKGRTAEEVDEILRKAEED--------------------------------\n",
      "1kt0_A          KYMQAVIQYGKIVSWLEMEYGLSEKESKASESFLLAAFLNLAMCYLKLREYTKAVECCDK\n",
      "1pbk_           VELVDID-----------------------------------------------------\n",
      "1r9h_A          VELFEWSA----------------------------------------------------\n",
      "1l1p_A          RELPELT-----------------------------------------------------\n",
      "\n",
      "1a7x_A          ------------------------------------------------------------\n",
      "1jvw_A          ------------------------------------------------------------\n",
      "1kt0_A          ALGLDSANEKGLYRRGEAQLLMNEFESAKGDFEKVLEVNAARLQISMCQKKAKEHNERDR\n",
      "1pbk_           ------------------------------------------------------------\n",
      "1r9h_A          ------------------------------------------------------------\n",
      "1l1p_A          ------------------------------------------------------------\n",
      "\n",
      "1a7x_A          ------\n",
      "1jvw_A          ------\n",
      "1kt0_A          RIYANM\n",
      "1pbk_           ------\n",
      "1r9h_A          ------\n",
      "1l1p_A          ------\n",
      "\n"
     ]
    }
   ],
   "source": [
    "ALIGNMENT_FILEPATH = OUTPUT_FILEPATH + \".faa\"\n",
    "presenter.present_interleaved_aligned_fasta(ALIGNMENT_FILEPATH)"
   ]
  },
  {
   "cell_type": "markdown",
   "id": "7c815533-db87-4939-b8fa-3f94012fa19a",
   "metadata": {},
   "source": [
    "#### Viewing Structural Reference Alignment"
   ]
  },
  {
   "cell_type": "code",
   "execution_count": 11,
   "id": "3d6cc34c-39ee-4bc3-a8e4-f2f24004d7b6",
   "metadata": {},
   "outputs": [
    {
     "name": "stdout",
     "output_type": "stream",
     "text": [
      "Displaying interleaved alignment from 'data/ref/BB20016: \n",
      "\n",
      "1a7x_A          ............................................................\n",
      "1jvw_A          ............................................................\n",
      "1kt0_A          vlkivtpmigdkvyvhykgklfdspfvfslgkgqvikawdigvatmkrgeichllckpey\n",
      "1pbk_           ............................................................\n",
      "1r9h_A          ............................................................\n",
      "1l1p_A          ............................................................\n",
      "\n",
      "1a7x_A          ...................................gvQVETISPGdgrtFPKRGQTCVVH\n",
      "1jvw_A          .aasheermnnyrkrvgrlfmeqkaaqpdavklpsglVFQRIARGsgkrAPAIDDKCEVH\n",
      "1kt0_A          aygsagslpkipsnatlffeielldfkgedlfedggiIRRTKRKGegysNPNEGATVEIH\n",
      "1pbk_           ..................................pkyTKSVLKKGdktnFPKKGDVVHCW\n",
      "1r9h_A          .........................kiditpkkdggvLKLIKKEGqgvvKPTTGTTVKVH\n",
      "1l1p_A          ...................................gsHMQATWKEkd.gAVEAEDRVTID\n",
      "\n",
      "1a7x_A          YTGMLEdGKKFDSSrd.......rnkPFKFMLGK..qevir.GWEEGvAQMSVGQRAKLT\n",
      "1jvw_A          YTGRLRdGTVFDSSre.......rgkPTTFRPNE....vik.GWTEAlQLMREGDRWRLF\n",
      "1kt0_A          LEGRCG.GRMFDCR............DVAFTVGEgedhdipiGIDKAlEKMQREEQCILY\n",
      "1pbk_           YTGTLQdGTVFDTNiqtsakkkknakPLSFKVGV..gkvir.GWDEAlLTMSKGEKARLE\n",
      "1r9h_A          YVGTLEnGTKFDSSrd.......rgdQFSFNLGR..gnvik.GWDLGvATMTKGEVAEFT\n",
      "1l1p_A          FTGSVD.GEEFEGG.........kasDFVLAMGQ..grmip.GFEDGiKGHKAGEEFTID\n",
      "\n",
      "1a7x_A          ISPDYAYGAT.ghpgiIPPHATLVFDVELLKLE...........................\n",
      "1jvw_A          IPYDLAYGVT.ggggmIPPYSPLEFDVELISIKdggkgrtaeevdeilrkaeed......\n",
      "1kt0_A          LGPRYGFGEAgkpkfgIEPNAELIYEVTLKSFEkakeswemdtkekleqaaivkekgtvy\n",
      "1pbk_           IEPEWAYGKKgqpdakIPPNAKLTFEVELVDID...........................\n",
      "1r9h_A          IRSDYGYGDA.gsppkIPGGATLIFEVELFEWSa..........................\n",
      "1l1p_A          VTFPEEYHAE......NLKGKAAKFAINLKKVEerelpelt...................\n",
      "\n",
      "1a7x_A          ............................................................\n",
      "1jvw_A          ............................................................\n",
      "1kt0_A          fkggkymqaviqygkivswlemeyglsekeskasesfllaaflnlamcylklreytkave\n",
      "1pbk_           ............................................................\n",
      "1r9h_A          ............................................................\n",
      "1l1p_A          ............................................................\n",
      "\n",
      "1a7x_A          ............................................................\n",
      "1jvw_A          ............................................................\n",
      "1kt0_A          ccdkalgldsanekglyrrgeaqllmnefesakgdfekvlevnaarlqismcqkkakehn\n",
      "1pbk_           ............................................................\n",
      "1r9h_A          ............................................................\n",
      "1l1p_A          ............................................................\n",
      "\n",
      "1a7x_A          ..........\n",
      "1jvw_A          ..........\n",
      "1kt0_A          erdrriyanm\n",
      "1pbk_           ..........\n",
      "1r9h_A          ..........\n",
      "1l1p_A          ..........\n",
      "\n"
     ]
    }
   ],
   "source": [
    "REFERENCE_FILEPATH = f\"data/ref/{TESTCASE_NAME}\"\n",
    "presenter.present_interleaved_aligned_fasta(REFERENCE_FILEPATH)"
   ]
  },
  {
   "cell_type": "markdown",
   "id": "e81ad3df-1748-4e7c-af3c-fd106473204b",
   "metadata": {},
   "source": [
    "#### Scoring Alignment Against Reference"
   ]
  },
  {
   "cell_type": "code",
   "execution_count": 12,
   "id": "42086c5c-9156-4f6e-ad37-71225d3ef551",
   "metadata": {},
   "outputs": [
    {
     "name": "stdout",
     "output_type": "stream",
     "text": [
      "0.459\n"
     ]
    }
   ],
   "source": [
    "SCORER_PATH = \"QScore/qscore.exe\"\n",
    "scorer = WrappedScorer(SCORER_PATH)\n",
    "\n",
    "score = scorer.score_testcase(ALIGNMENT_FILEPATH, REFERENCE_FILEPATH)\n",
    "print(score)"
   ]
  },
  {
   "cell_type": "code",
   "execution_count": 13,
   "id": "c6ae26e7-1e98-4198-9c8c-a7d2c3837757",
   "metadata": {},
   "outputs": [
    {
     "data": {
      "image/png": "[encoded data removed]",
      "text/plain": [
       "<Figure size 500x400 with 1 Axes>"
      ]
     },
     "metadata": {},
     "output_type": "display_data"
    }
   ],
   "source": [
    "presenter.present_score(TESTCASE_NAME, score)"
   ]
  },
  {
   "cell_type": "code",
   "execution_count": null,
   "id": "a951f381-147e-463c-a436-f5d6dfb3f339",
   "metadata": {},
   "outputs": [],
   "source": []
  }
 ],
 "metadata": {
  "kernelspec": {
   "display_name": "Python 3 (ipykernel)",
   "language": "python",
   "name": "python3"
  },
  "language_info": {
   "codemirror_mode": {
    "name": "ipython",
    "version": 3
   },
   "file_extension": ".py",
   "mimetype": "text/x-python",
   "name": "python",
   "nbconvert_exporter": "python",
   "pygments_lexer": "ipython3",
   "version": "3.10.4"
  }
 },
 "nbformat": 4,
 "nbformat_minor": 5
}

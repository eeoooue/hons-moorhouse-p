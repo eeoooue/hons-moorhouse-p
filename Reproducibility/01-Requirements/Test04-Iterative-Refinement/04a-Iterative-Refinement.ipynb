{
 "cells": [
  {
   "cell_type": "markdown",
   "id": "8bf3a1ba-88af-49e0-b29c-a3feca474233",
   "metadata": {},
   "source": [
    "# Test 04: Iterative Refinement"
   ]
  },
  {
   "cell_type": "markdown",
   "id": "69786009-37cf-4381-9e76-a849f764dbc9",
   "metadata": {},
   "source": [
    "### Overview\n",
    "\n",
    "This notebook demonstrates iterative refinement of an alignment produced by a progressive alignment algorithm in ClustalW2.\n",
    "\n",
    "Expected runtime: ~30 seconds or less"
   ]
  },
  {
   "cell_type": "markdown",
   "id": "95bba5c0-d8e8-4aee-90da-7a9985d5966e",
   "metadata": {
    "jp-MarkdownHeadingCollapsed": true
   },
   "source": [
    "### Context\n",
    "\n",
    "This notebook is intended to test the following requirement of MAli:\n",
    "\n",
    "**Requirement 3.3** - Can load an existing alignment state from an appropriate bioinformatics file format, for iterative refinement.\n",
    "- In this notebook, an initial alignment is produced in the ClustalW format using ClustalW2, and then refined by MAli."
   ]
  },
  {
   "cell_type": "markdown",
   "id": "6b62cc18-cd64-4a9c-b224-9ecc958baeed",
   "metadata": {},
   "source": [
    "### Installing Prerequisites"
   ]
  },
  {
   "cell_type": "code",
   "execution_count": 1,
   "id": "a7a8cdd8-81d2-4f09-b620-6f624f59f9a5",
   "metadata": {},
   "outputs": [
    {
     "name": "stdout",
     "output_type": "stream",
     "text": [
      "Requirement already satisfied: biopython in c:\\users\\pdmoo\\appdata\\local\\programs\\python\\python310\\lib\\site-packages (1.85)\n",
      "Requirement already satisfied: numpy in c:\\users\\pdmoo\\appdata\\local\\programs\\python\\python310\\lib\\site-packages (from biopython) (1.26.2)\n"
     ]
    }
   ],
   "source": [
    "!pip install biopython"
   ]
  },
  {
   "cell_type": "markdown",
   "id": "19697014-a06c-49eb-ae90-5d969dba7895",
   "metadata": {},
   "source": [
    "#### Imports"
   ]
  },
  {
   "cell_type": "code",
   "execution_count": 2,
   "id": "3b5cc5ef-f78b-4758-983c-8c4ab2b46ea2",
   "metadata": {},
   "outputs": [],
   "source": [
    "import os\n",
    "import shutil\n",
    "import subprocess\n",
    "import time\n",
    "from presentation_helper import PresentationHelper"
   ]
  },
  {
   "cell_type": "markdown",
   "id": "1dcd33af-cf2b-4581-b944-0c7a7f4942e5",
   "metadata": {},
   "source": [
    "#### ClustalW2"
   ]
  },
  {
   "cell_type": "code",
   "execution_count": 3,
   "id": "9513b965-dc61-4cfb-982b-64c40f260ae8",
   "metadata": {},
   "outputs": [],
   "source": [
    "ALIGNER_NAME = \"ClustalW2\"\n",
    "ALIGNER_PATH = \"ClustalW2/clustalw2.exe\"\n",
    "ALIGNER_OUTPUT_FOLDER = \"data/w2_output\""
   ]
  },
  {
   "cell_type": "markdown",
   "id": "ea019136-fad4-48de-afe0-741c182d10a2",
   "metadata": {},
   "source": [
    "#### MAli v1.31"
   ]
  },
  {
   "cell_type": "code",
   "execution_count": 4,
   "id": "323cf1e4-d98c-4488-9180-ea330d582e4b",
   "metadata": {},
   "outputs": [],
   "source": [
    "REFINER_NAME = \"MAli-v1.31\"\n",
    "REFINER_PATH = \"MAli-v1.31/MAli.exe\"\n",
    "REFINER_OUTPUT_FOLDER = \"data/refined_output\""
   ]
  },
  {
   "cell_type": "code",
   "execution_count": 5,
   "id": "652070cc-cc6e-4b31-a704-65f42e0331f1",
   "metadata": {},
   "outputs": [],
   "source": [
    "# creating empty output folders\n",
    "for OUTPUT_FOLDER in [ALIGNER_OUTPUT_FOLDER, REFINER_OUTPUT_FOLDER]:\n",
    "    if os.path.exists(OUTPUT_FOLDER):\n",
    "        shutil.rmtree(OUTPUT_FOLDER)\n",
    "    os.makedirs(OUTPUT_FOLDER)"
   ]
  },
  {
   "cell_type": "markdown",
   "id": "64a35a7c-99cf-42da-944a-76e0725b251f",
   "metadata": {},
   "source": [
    "#### Testcase"
   ]
  },
  {
   "cell_type": "markdown",
   "id": "91ae3376-5912-4d82-a115-fd6dce63f2c9",
   "metadata": {},
   "source": [
    "The BB20016 testcase from BAliBASE has been chosen as it contains 6 biological sequences and has a structural reference available.\n",
    "\n",
    "All testcases from BALIS-2 (subset of BAliBASE used for development) containing 6 sequences have been included in /data"
   ]
  },
  {
   "cell_type": "code",
   "execution_count": 6,
   "id": "967ca9e5-eb37-4b0e-8059-bcca034eb3ab",
   "metadata": {},
   "outputs": [],
   "source": [
    "TESTCASE_NAME = \"BB20018\"\n",
    "INPUT_FILEPATH = f\"data/input/{TESTCASE_NAME}\"\n",
    "ALIGNED_OUTPUT_FILEPATH = f\"{ALIGNER_OUTPUT_FOLDER}/{TESTCASE_NAME}\"\n",
    "REFINED_OUTPUT_FILEPATH = f\"{REFINER_OUTPUT_FOLDER}/{TESTCASE_NAME}\""
   ]
  },
  {
   "cell_type": "markdown",
   "id": "fef08151-fe53-4947-a990-4f38f5500f83",
   "metadata": {},
   "source": [
    "#### Viewing Testcase"
   ]
  },
  {
   "cell_type": "code",
   "execution_count": 7,
   "id": "36ad9d00-ceb7-4f43-a791-4f1839506d75",
   "metadata": {},
   "outputs": [],
   "source": [
    "presenter = PresentationHelper()"
   ]
  },
  {
   "cell_type": "code",
   "execution_count": 8,
   "id": "3830886d-d4b1-4400-861f-d46f8361ee9a",
   "metadata": {},
   "outputs": [
    {
     "name": "stdout",
     "output_type": "stream",
     "text": [
      "Displaying Sequences from data/input/BB20018: \n",
      "\n",
      ">1ldg_\n",
      "APKAKIVLVGSGMIGGVMATLIVQKNLGDVVLFDIVKNMPHGKALDTSHTNVMSNCKVSGSNTYDDLAGSDVVIVTAGFTKEWNRLDLLPLNNKIMIEIGGHIKKNCAFIIVVTNPVDVMVQLLHQHSGVPKNKIIGLGGVLDTSRLKYYISQKLNVCPRDVNAHIVGAHGNKMVLLKRYITVEFINNKLISDAELEAIFDRTVNTALEIVNLHASPYVAPAAAIIEMAESYLKDLKKVLICSTLLEGQYGHSDIFGGTPVVLGANGVEQVIELQLNSEEKAKFDEAIAETKRMKALA\n",
      "\n",
      ">1lld_A\n",
      "PTKLAVIGAGAVGSTLAFAAAQRGIAREIVLEDIAKERVEAEVLDMQHGSSFYPTVSIDGSDDPEICRDADMVVITAGPRQKPGQSRLELVGATVNILKAIMPNLVKVAPNAIYMLITNPVDIATHVAQKLTGLPENQIFGSGTNLDSARLRFLIAQQTGVNVKNVHAYIAGEHGDSEVPLWESATIGGVPMSDWTPLPGHDPLDADKREEIHQEVKNAAYKIINGKGATNYAIGMSGVDIIEAVLHDTNRILPVSSMLKDFHGISDICMSVPTLLNRQGVNNTINTPVSDKELAALKRSAETLKETAAQFGF\n",
      "\n",
      ">1i0z_A\n",
      "ATLKEKLIAPVAEEEATVPNNKITVVGVGQVGMACAISILGKSLADELALVDVLEDKLKGEMMDLQHGSLFLQTPKIVADKDYSVTANSKIVVVTAGVRQQEGESRLNLVQRNVNVFKFIIPQIVKYSPDCIIIVVSNPVDILTYVTWKLSGLPKHRVIGSGCNLDSARFRYLMAEKLGIHPSSCHGWILGEHGDSSVAVWSGVNVAGVSLQELNPEMGTDNDSENWKEVHKMVVESAYEVIKLKGYTNWAIGLSVADLIESMLKNLSRIHPVSTMVKGMYGIENEVFLSLPCILNARGLTSVINQKLKDDEVAQLKKSADTLWDIQKDLKD\n",
      "\n",
      ">1ez4_A\n",
      "SMPNHQKVVLVGDGAVGSSYAFAMAQQGIAEEFVIVDVVKDRTKGDALDLEDAQAFTAPKKIYSGEYSDCKDADLVVITAGALVNKNLNILSSIVKPVVDSGFDGIFLVAANPVDILTYATWKFSGFPKERVIGSGTSLDSSRLRVALGKQFNVDPRSVDAYIMGEHGDSEFAAYSTATIGTRPVRDVAKEQGVSDDDLAKLEDGVRNKAYDIINLKGATFYGIGTALMRISKAILRDENAVLPVGAYMDGQYGLNDIYIGTPAIIGGTGLKQIIESPLSADELKKMQDSAATLKKVLNDGLAELEN\n",
      "\n",
      ">1guy_A\n",
      "MRKKISIIGAGFVGSTTAHWLAAKELGDIVLLDIVEGVPQGKALDLYEASPIEGFDVRVTGTNNYADTANSDVIVVTSGALIKVNADITRACISQAAPLSPNAVIIMVNNPLDAMTYLAAEVSGFPKERVIGQAGVLDAARYRTFIAMEAGVSVEDVQAMLMGGHGDEMVPLPRFSTISGIPVSEFIAPDRLAQIVERTRKGGGEIVNLLKTGSAYYAPAAATAQMVEAVLKDKKRVMPVAAYLTGQYGLNDIYFGVPVILGAGGVEKILELPLNEEEMALLNASAKAVRATLDTL\n",
      "\n",
      ">1b8p_A\n",
      "KTPMRVAVTGAAGQICYSLLFRIANGDMLGKDQPVILQLLEIPNEKAQKALQGVMMEIDDCAFPLLAGMTAHADPMTAFKDADVALLVGARPRGPGMERKDLLEANAQIFTVQGKAIDAVASRNIKVLVVGNPANTNAYIAMKSAPSLPAKNFTAMLRLDHNRALSQIAAKTGKPVSSIEKLFVWGNHSPTMYADYRYAQIDGASVKDMINDDAWNRDTFLPTVGKRGAAIIDARGVSSAASAANAAIDHIHDWVLGTAGKWTTMGIPSDGSYGIPEGVIFGFPVTTENGEYKIVQGLSIDAFSQERINVTLNELLEEQNGVQHLLG\n",
      "\n"
     ]
    }
   ],
   "source": [
    "presenter.present_unaligned_fasta(INPUT_FILEPATH)"
   ]
  },
  {
   "cell_type": "markdown",
   "id": "79d461d9-aee7-4518-bdca-ddee7c1674ef",
   "metadata": {},
   "source": [
    "#### Initial Alignment with ClustalW2\n",
    "\n",
    "Here, ```-OUTPUT=CLUSTAL``` is specified such that ClustalW2 will output a ClustalW format alignment."
   ]
  },
  {
   "cell_type": "code",
   "execution_count": 9,
   "id": "e3467ae7-8723-4ce4-882d-9cb93dd2fe5f",
   "metadata": {},
   "outputs": [
    {
     "name": "stdout",
     "output_type": "stream",
     "text": [
      "CLI command to be run: 'ClustalW2/clustalw2.exe -INFILE=data/input/BB20018 -OUTFILE=data/w2_output/BB20018 -OUTPUT=CLUSTAL -ALIGN'\n"
     ]
    }
   ],
   "source": [
    "ALIGNMENT_COMMAND = f\"{ALIGNER_PATH} -INFILE={INPUT_FILEPATH} -OUTFILE={ALIGNED_OUTPUT_FILEPATH} -OUTPUT=CLUSTAL -ALIGN\"\n",
    "print(f\"CLI command to be run: '{ALIGNMENT_COMMAND}'\")"
   ]
  },
  {
   "cell_type": "code",
   "execution_count": 10,
   "id": "0290f69e-357a-4370-beeb-9c09b5656c87",
   "metadata": {},
   "outputs": [
    {
     "name": "stdout",
     "output_type": "stream",
     "text": [
      "Performed alignment of BB20018 with ClustalW2\n"
     ]
    }
   ],
   "source": [
    "subprocess.run(ALIGNMENT_COMMAND)\n",
    "print(f\"Performed alignment of {TESTCASE_NAME} with ClustalW2\")"
   ]
  },
  {
   "cell_type": "markdown",
   "id": "42bf48cc-9c2a-41e1-8c7b-469ec2457825",
   "metadata": {},
   "source": [
    "#### Performing Refinement with MAli\n",
    "\n",
    "Here, MAli is tasked with accepting a ClustalW format alignment as input. This will be a starting point for iterative refinement."
   ]
  },
  {
   "cell_type": "code",
   "execution_count": 11,
   "id": "8726c502-1848-46c6-89fd-b4b29d0226a5",
   "metadata": {},
   "outputs": [
    {
     "name": "stdout",
     "output_type": "stream",
     "text": [
      "CLI command to be run: 'MAli-v1.31/MAli.exe -input data/w2_output/BB20018 -output data/refined_output/BB20018 -refine'\n"
     ]
    }
   ],
   "source": [
    "REFINEMENT_COMMAND = f\"{REFINER_PATH} -input {ALIGNED_OUTPUT_FILEPATH} -output {REFINED_OUTPUT_FILEPATH} -refine\"\n",
    "print(f\"CLI command to be run: '{REFINEMENT_COMMAND}'\")"
   ]
  },
  {
   "cell_type": "code",
   "execution_count": 12,
   "id": "373dfcb5-b295-477b-9618-d26f5a6a9c46",
   "metadata": {},
   "outputs": [
    {
     "name": "stdout",
     "output_type": "stream",
     "text": [
      "Performed refinement of BB20018 with MAli\n"
     ]
    }
   ],
   "source": [
    "subprocess.run(REFINEMENT_COMMAND)\n",
    "print(f\"Performed refinement of {TESTCASE_NAME} with MAli\")"
   ]
  },
  {
   "cell_type": "markdown",
   "id": "d3c0e641-0739-460e-abb8-270b2d86a2d4",
   "metadata": {},
   "source": [
    "#### Viewing Refined Alignment Produced by MAli"
   ]
  },
  {
   "cell_type": "code",
   "execution_count": 13,
   "id": "6bfa15ed-4c4b-4781-86c8-d1e94391a476",
   "metadata": {},
   "outputs": [
    {
     "name": "stdout",
     "output_type": "stream",
     "text": [
      "Displaying interleaved alignment from 'data/refined_output/BB20018.faa: \n",
      "\n",
      "1ldg_           -----------------APKAKIVLVGSG-MIGG-----VMATLIVQKNLG-DVVLFDIV\n",
      "1guy_A          ------------------MRKKISIIGAG-FVGS-----TTAHWLAAKELG-DIVLLDIV\n",
      "1lld_A          -------------------PTKLAVIGAG-AVGSTLAFAAAQ-----RGIAREIVLEDIA\n",
      "1ez4_A          ---------------SMPNHQKVVLVGDG-AVGSSYAFAMAQ-----QGIAEEFVIVDVV\n",
      "1i0z_A          ATLKEKLIAPVAEEEATVPNNKITVVGVG-QVGM-----ACAISILGKSLADELALVDVL\n",
      "1b8p_A          -----------------KTPMRVAVTGAAGQICYSLLFRIANGDMLGKDQPVILQLLEIP\n",
      "\n",
      "1ldg_           KNMPH---GKALDTSHTNVMS--NCKVSGSNTYDDLAGSDVVIVTAG--FTKEWNRLDLL\n",
      "1guy_A          EGVPQ---GKALDLYEASPIEGFDVRVTGTNNYADTANSDVIVVTSG--ALIKVN-ADIT\n",
      "1lld_A          KERVE---AEVLDMQHGSSF-YPTVSIDGSDDPEICRDADMVVITAGPRQKPGQSRLELV\n",
      "1ez4_A          KDRTK---GDALDLEDAQAFTA-PKKIY-SGEYSDCKDADLVVITAG----------ALV\n",
      "1i0z_A          EDKLK---GEMMDLQHGSLF-LQTPKIVADKDYSVTANSKIVVVTAGVRQQEGESRLNLV\n",
      "1b8p_A          NEKAQKALQGVMMEIDDCAFPLLAGMTAHADPMTAFKDADVALLVGARPRGPGMERKDLL\n",
      "\n",
      "1ldg_           PLNNKIMIEIGGHIKKNC--AFIIVVT-NPVDVMVQLLHQHSGVPKNKIIGLGGVLDTSR\n",
      "1guy_A          ----RACISQAAPLSPN---AVIIMVN-NPLDAMTYLAAEVSGFPKERVIGQAGVLDAAR\n",
      "1lld_A          GATVNILKAIMPNLVKVAPNAIYMLIT-NPVDIATHVAQKLTGLPENQIFGSGTNLDSAR\n",
      "1ez4_A          NKNLNILSSIVKPVVDSGFDGIFLVAA-NPVDILTYATWKFSGFPKERVIGSGTSLDSSR\n",
      "1i0z_A          QRNVNVFKFIIPQIVKYSPDCIIIVVS-NPVDILTYVTWKLSGLPKHRVIGSGCNLDSAR\n",
      "1b8p_A          EANAQIFTVQGKAIDAVASRNIKVLVVGNPANTNAYIAMKSAPSLPAKNFTAMLRLDHNR\n",
      "\n",
      "1ldg_           LKYYISQKLNVCPRDVN-AHIVGAHGNKMVLLKRYITVEFINN---------KLISDAEL\n",
      "1guy_A          YRTFIAMEAGVSVEDVQ-AMLMGGHGDEMVPLPRFSTISGIPVS--------EFIAPDRL\n",
      "1lld_A          LRFLIAQQTGVNVKNVH-AYIAGEHGDSEVPLWESATIGGVPMSDWTPLPGHDPLDADKR\n",
      "1ez4_A          LRVALGKQFNVDPRSVD-AYIMGEHGDSEFAAYSTATIGTRPVRDVAKEQG---VSDDDL\n",
      "1i0z_A          FRYLMAEKLGIHPSSCH-GWILGEHGDSSVAVWSGVNVAGVSLQELNPEMGTD-NDSENW\n",
      "1b8p_A          ALSQIAAKTGKPVSSIEKLFVWGNHSPTMYADYRYAQIDGASVKDMIN------DDAWNR\n",
      "\n",
      "1ldg_           EAIFDRTVNTALEIVNLHAS--PYVAPAAAIIEMAESYLKDLKKVLICSTLLEGQYGHS-\n",
      "1guy_A          AQIVERTRKGGGEIVNLLKTGSAYYAPAAATAQMVEAVLKDKKRVMPVAAYLTGQYGLN-\n",
      "1lld_A          EEIHQEVKNAAYKIINGKGA--TNYAIGMSGVDIIEAVLHDTNRILPVSSMLKDFHGIS-\n",
      "1ez4_A          AKLEDGVRNKAYDIINLKGA--TFYGIGTALMRISKAILRDENAVLPVGAYMDGQYGLN-\n",
      "1i0z_A          KEVHKMVVESAYEVIKLKGY--TNWAIGLSVADLIESMLKNLSRIHPVSTMVKGMYGIEN\n",
      "1b8p_A          DTFLPTVGKRGAAIIDARGVSSAASAANAAIDHIHDWVLGTAGKWTTMGIPSDGSYGIPE\n",
      "\n",
      "1ldg_           DIFGGTPVVLGANGVEQVIELQLNSEEKAKFDEAIAETKRMKALA------\n",
      "1guy_A          DIYFGVPVILGAGGVEKILELPLNEEEMALLNASAKAVRATLDTL------\n",
      "1lld_A          DICMSVPTLLNRQGVNNTINTPVSDKELAALKRSAETLKETA----AQFGF\n",
      "1ez4_A          DIYIGTPAIIGGTGLKQIIESPLSADELKKMQDSAATLKKVLNDGLAELEN\n",
      "1i0z_A          EVFLSLPCILNARGLTSVINQKLKDDEVAQLKKSADTLWDIQ----KDLKD\n",
      "1b8p_A          GVIFGFPVTTENGEYKIVQGLSIDAFSQERINVTLNELLEEQNGVQHLLG-\n",
      "\n"
     ]
    }
   ],
   "source": [
    "UNREFINED_ALIGNMENT_FILEPATH = ALIGNED_OUTPUT_FILEPATH\n",
    "REFINED_ALIGNMENT_FILEPATH = REFINED_OUTPUT_FILEPATH + \".faa\"\n",
    "presenter.present_interleaved_aligned_fasta(REFINED_ALIGNMENT_FILEPATH)"
   ]
  },
  {
   "cell_type": "code",
   "execution_count": null,
   "id": "a951f381-147e-463c-a436-f5d6dfb3f339",
   "metadata": {},
   "outputs": [],
   "source": []
  }
 ],
 "metadata": {
  "kernelspec": {
   "display_name": "Python 3 (ipykernel)",
   "language": "python",
   "name": "python3"
  },
  "language_info": {
   "codemirror_mode": {
    "name": "ipython",
    "version": 3
   },
   "file_extension": ".py",
   "mimetype": "text/x-python",
   "name": "python",
   "nbconvert_exporter": "python",
   "pygments_lexer": "ipython3",
   "version": "3.10.4"
  }
 },
 "nbformat": 4,
 "nbformat_minor": 5
}

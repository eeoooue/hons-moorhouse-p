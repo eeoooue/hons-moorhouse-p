{
 "cells": [
  {
   "cell_type": "markdown",
   "id": "8bf3a1ba-88af-49e0-b29c-a3feca474233",
   "metadata": {},
   "source": [
    "# Test 03: Performing Batch Alignment"
   ]
  },
  {
   "cell_type": "markdown",
   "id": "69786009-37cf-4381-9e76-a849f764dbc9",
   "metadata": {},
   "source": [
    "### Overview\n",
    "\n",
    "This notebook demonstrates batch alignment of a series of sets of sequences from BALIS-2 using MAli v1.31.\n",
    "\n",
    "The same set of inputs included with Test 01 are being used in this test.\n",
    "\n",
    "Expected runtime: ~60 seconds or less"
   ]
  },
  {
   "attachments": {},
   "cell_type": "markdown",
   "id": "95bba5c0-d8e8-4aee-90da-7a9985d5966e",
   "metadata": {
    "jp-MarkdownHeadingCollapsed": true
   },
   "source": [
    "### Context\n",
    "\n",
    "This notebook is intended to test the following requirements of MAli:\n",
    "\n",
    "**Requirement 3.4** - Supports multiple bioinformatics file formats for outputting alignments.\n",
    "- The alignments produced in this notebook are outputted in the ClustalW file format rather than FASTA (used previously in tests 01 & 02)\n",
    "\n",
    "**Requirement 4.3** - Can specify a randomness seed to support reproduction of results under the same settings.\n",
    "- A randomness seed & number of iterations is specified for exact reproduction of results\n",
    "\n",
    "**Requirement 6.1** - Supports batch alignment of a series of sets of sequences from a directory.\n",
    "- This notebook demonstrates the batch alignment of a series of 6 sets of 6 sequences.\n",
    "\n",
    "**Requirement 6.2** - Interface displays progress on the current alignment task - in terms of time or iterations.\n",
    "- In this directory, a console command can be run to view progress on individual alignments within a batch alignment task.\n",
    "- Run CLI: ```MAli-v1.31\\MAli.exe -input data\\input -output data\\output -batch -iterations 100 -seed 25032025 -format clustalw -debug``` "
   ]
  },
  {
   "cell_type": "markdown",
   "id": "6b62cc18-cd64-4a9c-b224-9ecc958baeed",
   "metadata": {},
   "source": [
    "### Installing Prerequisites"
   ]
  },
  {
   "cell_type": "code",
   "execution_count": 1,
   "id": "a7a8cdd8-81d2-4f09-b620-6f624f59f9a5",
   "metadata": {},
   "outputs": [
    {
     "name": "stdout",
     "output_type": "stream",
     "text": [
      "Requirement already satisfied: biopython in c:\\users\\pdmoo\\appdata\\local\\programs\\python\\python310\\lib\\site-packages (1.85)\n",
      "Requirement already satisfied: numpy in c:\\users\\pdmoo\\appdata\\local\\programs\\python\\python310\\lib\\site-packages (from biopython) (1.26.2)\n"
     ]
    }
   ],
   "source": [
    "!pip install biopython"
   ]
  },
  {
   "cell_type": "markdown",
   "id": "19697014-a06c-49eb-ae90-5d969dba7895",
   "metadata": {},
   "source": [
    "#### Imports"
   ]
  },
  {
   "cell_type": "code",
   "execution_count": 2,
   "id": "3b5cc5ef-f78b-4758-983c-8c4ab2b46ea2",
   "metadata": {},
   "outputs": [],
   "source": [
    "import os\n",
    "import shutil\n",
    "import subprocess\n",
    "import time\n",
    "from presentation_helper import PresentationHelper\n",
    "import random"
   ]
  },
  {
   "cell_type": "code",
   "execution_count": 3,
   "id": "5c557313-75da-44e1-8db0-76990f522bcd",
   "metadata": {},
   "outputs": [],
   "source": [
    "presenter = PresentationHelper()"
   ]
  },
  {
   "cell_type": "markdown",
   "id": "17cc582f-3388-4bb7-b1d5-fa5420ead03a",
   "metadata": {},
   "source": [
    "#### Reproducibility Parameters"
   ]
  },
  {
   "cell_type": "code",
   "execution_count": 4,
   "id": "f809d928-befe-49cd-b079-d99436f41ccb",
   "metadata": {},
   "outputs": [],
   "source": [
    "SEED_VALUE = 25032025\n",
    "NUM_ITERATIONS = 100"
   ]
  },
  {
   "cell_type": "markdown",
   "id": "ea019136-fad4-48de-afe0-741c182d10a2",
   "metadata": {},
   "source": [
    "#### MAli v1.31"
   ]
  },
  {
   "cell_type": "code",
   "execution_count": 5,
   "id": "323cf1e4-d98c-4488-9180-ea330d582e4b",
   "metadata": {},
   "outputs": [],
   "source": [
    "ALIGNER_NAME = \"MAli-v1.31\"\n",
    "ALIGNER_PATH = \"MAli-v1.31/MAli.exe\"\n",
    "INPUT_FOLDER = \"data/input\"\n",
    "OUTPUT_FOLDER = \"data/output\""
   ]
  },
  {
   "cell_type": "code",
   "execution_count": 6,
   "id": "652070cc-cc6e-4b31-a704-65f42e0331f1",
   "metadata": {},
   "outputs": [],
   "source": [
    "# creating empty output folder\n",
    "if os.path.exists(OUTPUT_FOLDER):\n",
    "    shutil.rmtree(OUTPUT_FOLDER)\n",
    "os.makedirs(OUTPUT_FOLDER)"
   ]
  },
  {
   "cell_type": "markdown",
   "id": "79d461d9-aee7-4518-bdca-ddee7c1674ef",
   "metadata": {},
   "source": [
    "#### Performing Batch Alignment"
   ]
  },
  {
   "cell_type": "code",
   "execution_count": 7,
   "id": "8726c502-1848-46c6-89fd-b4b29d0226a5",
   "metadata": {},
   "outputs": [
    {
     "name": "stdout",
     "output_type": "stream",
     "text": [
      "CLI command to be run: 'MAli-v1.31/MAli.exe -input data/input -output data/output -batch -iterations 100 -seed 25032025 -format clustalw'\n"
     ]
    }
   ],
   "source": [
    "SECONDS_OF_COMPUTATION_PER_TESTCASE = 2\n",
    "ALIGNMENT_COMMAND = f\"{ALIGNER_PATH} -input {INPUT_FOLDER} -output {OUTPUT_FOLDER} -batch -iterations {NUM_ITERATIONS} -seed {SEED_VALUE} -format clustalw\"\n",
    "print(f\"CLI command to be run: '{ALIGNMENT_COMMAND}'\")"
   ]
  },
  {
   "cell_type": "code",
   "execution_count": 8,
   "id": "710c1590-7728-45ef-81fe-a11aa13f41a1",
   "metadata": {},
   "outputs": [
    {
     "data": {
      "text/plain": [
       "CompletedProcess(args='MAli-v1.31/MAli.exe -input data/input -output data/output -batch -iterations 100 -seed 25032025 -format clustalw', returncode=0)"
      ]
     },
     "execution_count": 8,
     "metadata": {},
     "output_type": "execute_result"
    }
   ],
   "source": [
    "subprocess.run(ALIGNMENT_COMMAND)"
   ]
  },
  {
   "cell_type": "code",
   "execution_count": 9,
   "id": "373dfcb5-b295-477b-9618-d26f5a6a9c46",
   "metadata": {},
   "outputs": [
    {
     "name": "stdout",
     "output_type": "stream",
     "text": [
      "Performed batch alignment: produced 6 alignments\n",
      "Filenames: ['BB20016.aln', 'BB20018.aln', 'BB20020.aln', 'BB20036.aln', 'BB20039.aln', 'BB40044.aln']\n"
     ]
    }
   ],
   "source": [
    "ALIGNMENTS_PRODUCED = os.listdir(OUTPUT_FOLDER)\n",
    "COUNT_PRODUCED = len(ALIGNMENTS_PRODUCED)\n",
    "\n",
    "print(f\"Performed batch alignment: produced {COUNT_PRODUCED} alignments\")\n",
    "print(f\"Filenames: {ALIGNMENTS_PRODUCED}\")"
   ]
  },
  {
   "cell_type": "markdown",
   "id": "d3c0e641-0739-460e-abb8-270b2d86a2d4",
   "metadata": {},
   "source": [
    "#### Comparing Alignments Produced by MAli to Expected States"
   ]
  },
  {
   "cell_type": "code",
   "execution_count": 10,
   "id": "6bfa15ed-4c4b-4781-86c8-d1e94391a476",
   "metadata": {},
   "outputs": [],
   "source": [
    "ALIGNMENT_FILEPATHS = []\n",
    "for ALIGNMENT_FILENAME in ALIGNMENTS_PRODUCED:\n",
    "    ALIGNMENT_FILEPATH = f\"{OUTPUT_FOLDER}/{ALIGNMENT_FILENAME}\"\n",
    "    ALIGNMENT_FILEPATHS.append(ALIGNMENT_FILEPATH)"
   ]
  },
  {
   "cell_type": "markdown",
   "id": "e3562dd7-6f7a-45aa-9b9c-53c3e9033ca4",
   "metadata": {},
   "source": [
    "#### BB20020\n",
    "\n",
    "**Expected Alignment**\n",
    "\n",
    "- SEED_VALUE = 25032025\n",
    "- ITERATIONS = 100\n",
    "\n",
    "```\n",
    "1mrj_           --D-----VSFRLSGATSSSYGVFISNLRK-ALPNERKLY-DIP-LL-RSSLPGSQ-RYALIHLTNYADETISVAIDVTNVYIMGY---RA--GDTSYFF\n",
    "1apg_A          IFPKQYPIINFTTAGATVQSYTNFIRAVRG-RLTTGADVRHEIPVLPNRVGLPINQ-RFILVELSNHAELSVTLALDVTNAYVVGY---R--AGNSAYFF\n",
    "1abr_A          --EDR-P-IKFSTEGATSQSYKQFIEALRE-RLRGGL-I-HDIPVLPDPTTLQERN-RYITVELSNSDTESIEVGIDVTNAYVVAY---RA--GTQSYF-\n",
    "1qi7_A          V--T--S-ITLDLVNPTAGQYSSFVDKIRN-NVKDPNLKYGGTDIAVIGPPSKEK-F--LRINFQ-SSRGTVSLGLKRDNLYVVAYLAMDNTNVNRAYY-\n",
    "1apa_           I--N--T-ITFDVGNATINKYATFMKSIHN-QAKDPTLKCYGIPMLPNTN-LTPK-Y--LLVTLQDSSLKTITLMLKRNNLYVMGY-A-DTYNGKCRYHI\n",
    "1dm0_A          ---KEFTLD-FSTAKTYVDS-LNVIRSAIGTPLQT-I-SSGGTSLLMIDDNLFAVDVRGIDPEEGRFNNL-R-LIVERNNLYVTGFVN-RT--NNVFYRF\n",
    "\n",
    "1mrj_           -----N-EASATEAAKYVFKDAMRKVTLPYS-G-NYERLQTAAGKIR---ENIPLGLPA-LDSAITTLFYYNANSA--------ASALMVLIQSTSEAAR\n",
    "1apg_A          HPD--N-QEDA-EAITHLFTDVQNRYTFAFG-G-NYDRLEQLAGNLR---ENIELGNGP-LEEAISALYYYST-GGTQL-P-TLARSFIICIQMISEAAR\n",
    "1abr_A          LRD--A-PSSA-SDYLFTGTD-QHSLPF-YG-T--YGDLERWAHQSR---QQIPLGLQA-LTHGIS-F-FRS--GGNDN-E-EKARTLIVIIQMVAEAAR\n",
    "1qi7_A          FK--SEITSAE-L--TALFPEATTANQKALEYTEDYQSIEKNAQITQGDKSRKELGLGIDLLLTFMEAVNKKAR-V-V---KNEARFLLIAIQMTAEVAR\n",
    "1apa_           FKDISNTTERN-DVMTTLCPNPSSRVGKNINYDSSYPALEKKVGRPR---SQVQLGIQI-LNSGIGKIYGVDSF-T-E---KTEAEFLLVAIQMVSEAAR\n",
    "1dm0_A          A-DF---SHVTFP-GT---TAV----TLSGD-S-SYTTLQRVAGISR---TGMQINRHS-LTTSYLDLMSH---SGTSLTQ-SVARAMLRFVTVTAEALR\n",
    "\n",
    "1mrj_           YKFIEQQIGKRVDK-TFL-PSLAIISLENSWSALSKQI-QIA-STN-NGQFESP-VVL---INAQNQRVTITNVDAGVVTSNIA-LLLN-RN----N--M\n",
    "1apg_A          FQYIEGEMRTRIRYNRRSAPDPSVITLENSWGRLSTAI-Q-ES--N-QGAFASP-IQL-QRR-NGSKFS-VYDVSILIPII--A-LMVY-RCA-P-PP-S\n",
    "1abr_A          FRYISNRVRVSIQTGTAFQPDAAMISLENNWDNLSRGV-Q-ES--V-QDTFPNQ-VTLTNIR-NEPVI--VDSLSHPTVAVL-A-LMLF-VCN-P--P--\n",
    "1qi7_A          FRYIQNLVTK--NFPNKFDSDNKVIQFEVSWRKISTAIYG-D-A-K-NGVFNKD-YDF-GF---G-K---VRQVKD-L-QM--G-LLMY-L-G---K---\n",
    "1apa_           FKYIENQVKT--NFNRAFYPNAKVLNLEESWGKISTAI-H-N-A-K-NGALTSP-LEL-KNA-NGSKWI-VLRVDDIEPDV--G-LLKY-VNG-TCQ---\n",
    "1dm0_A          FRQIQRGFRTTLDSYVMTAEDVDL-TL-N-WGRLSSVL-P-D--YHGQDSVRVGRISF-GSI-NAILGS-VALILNCFPSMCPADGRVRGITHNKILWDS\n",
    "\n",
    "1mrj_           A-------\n",
    "1apg_A          S--Q---F\n",
    "1abr_A          ---N----\n",
    "1qi7_A          ---P---K\n",
    "1apa_           ---A---T\n",
    "1dm0_A          STLGAILM\n",
    "```"
   ]
  },
  {
   "cell_type": "markdown",
   "id": "add7c9cb-8d68-414f-9418-d0d018c2280e",
   "metadata": {},
   "source": [
    "**Actual Alignment**"
   ]
  },
  {
   "cell_type": "code",
   "execution_count": 11,
   "id": "1f91e0c5-1e1e-4a5d-b4bc-824260ac14f4",
   "metadata": {},
   "outputs": [
    {
     "name": "stdout",
     "output_type": "stream",
     "text": [
      "Displaying ClustalW format alignment from data/output/BB20020.aln: \n",
      "\n",
      "1mrj_           --D-----VSFRLSGATSSSYGVFISNLRK-ALPNERKLY-DIP-LL-RSSLPGSQ-RYALIHLTNYADETISVAIDVTNVYIMGY---RA--GDTSYFF\n",
      "1apg_A          IFPKQYPIINFTTAGATVQSYTNFIRAVRG-RLTTGADVRHEIPVLPNRVGLPINQ-RFILVELSNHAELSVTLALDVTNAYVVGY---R--AGNSAYFF\n",
      "1abr_A          --EDR-P-IKFSTEGATSQSYKQFIEALRE-RLRGGL-I-HDIPVLPDPTTLQERN-RYITVELSNSDTESIEVGIDVTNAYVVAY---RA--GTQSYF-\n",
      "1qi7_A          V--T--S-ITLDLVNPTAGQYSSFVDKIRN-NVKDPNLKYGGTDIAVIGPPSKEK-F--LRINFQ-SSRGTVSLGLKRDNLYVVAYLAMDNTNVNRAYY-\n",
      "1apa_           I--N--T-ITFDVGNATINKYATFMKSIHN-QAKDPTLKCYGIPMLPNTN-LTPK-Y--LLVTLQDSSLKTITLMLKRNNLYVMGY-A-DTYNGKCRYHI\n",
      "1dm0_A          ---KEFTLD-FSTAKTYVDS-LNVIRSAIGTPLQT-I-SSGGTSLLMIDDNLFAVDVRGIDPEEGRFNNL-R-LIVERNNLYVTGFVN-RT--NNVFYRF\n",
      "\n",
      "1mrj_           -----N-EASATEAAKYVFKDAMRKVTLPYS-G-NYERLQTAAGKIR---ENIPLGLPA-LDSAITTLFYYNANSA--------ASALMVLIQSTSEAAR\n",
      "1apg_A          HPD--N-QEDA-EAITHLFTDVQNRYTFAFG-G-NYDRLEQLAGNLR---ENIELGNGP-LEEAISALYYYST-GGTQL-P-TLARSFIICIQMISEAAR\n",
      "1abr_A          LRD--A-PSSA-SDYLFTGTD-QHSLPF-YG-T--YGDLERWAHQSR---QQIPLGLQA-LTHGIS-F-FRS--GGNDN-E-EKARTLIVIIQMVAEAAR\n",
      "1qi7_A          FK--SEITSAE-L--TALFPEATTANQKALEYTEDYQSIEKNAQITQGDKSRKELGLGIDLLLTFMEAVNKKAR-V-V---KNEARFLLIAIQMTAEVAR\n",
      "1apa_           FKDISNTTERN-DVMTTLCPNPSSRVGKNINYDSSYPALEKKVGRPR---SQVQLGIQI-LNSGIGKIYGVDSF-T-E---KTEAEFLLVAIQMVSEAAR\n",
      "1dm0_A          A-DF---SHVTFP-GT---TAV----TLSGD-S-SYTTLQRVAGISR---TGMQINRHS-LTTSYLDLMSH---SGTSLTQ-SVARAMLRFVTVTAEALR\n",
      "\n",
      "1mrj_           YKFIEQQIGKRVDK-TFL-PSLAIISLENSWSALSKQI-QIA-STN-NGQFESP-VVL---INAQNQRVTITNVDAGVVTSNIA-LLLN-RN----N--M\n",
      "1apg_A          FQYIEGEMRTRIRYNRRSAPDPSVITLENSWGRLSTAI-Q-ES--N-QGAFASP-IQL-QRR-NGSKFS-VYDVSILIPII--A-LMVY-RCA-P-PP-S\n",
      "1abr_A          FRYISNRVRVSIQTGTAFQPDAAMISLENNWDNLSRGV-Q-ES--V-QDTFPNQ-VTLTNIR-NEPVI--VDSLSHPTVAVL-A-LMLF-VCN-P--P--\n",
      "1qi7_A          FRYIQNLVTK--NFPNKFDSDNKVIQFEVSWRKISTAIYG-D-A-K-NGVFNKD-YDF-GF---G-K---VRQVKD-L-QM--G-LLMY-L-G---K---\n",
      "1apa_           FKYIENQVKT--NFNRAFYPNAKVLNLEESWGKISTAI-H-N-A-K-NGALTSP-LEL-KNA-NGSKWI-VLRVDDIEPDV--G-LLKY-VNG-TCQ---\n",
      "1dm0_A          FRQIQRGFRTTLDSYVMTAEDVDL-TL-N-WGRLSSVL-P-D--YHGQDSVRVGRISF-GSI-NAILGS-VALILNCFPSMCPADGRVRGITHNKILWDS\n",
      "\n",
      "1mrj_           A-------\n",
      "1apg_A          S--Q---F\n",
      "1abr_A          ---N----\n",
      "1qi7_A          ---P---K\n",
      "1apa_           ---A---T\n",
      "1dm0_A          STLGAILM\n",
      "\n"
     ]
    }
   ],
   "source": [
    "presenter.present_aligned_clustalw(ALIGNMENT_FILEPATHS[2])"
   ]
  },
  {
   "cell_type": "markdown",
   "id": "47d825d2-66ee-40ff-93e5-939b2d5a6308",
   "metadata": {},
   "source": [
    "#### BB40044\n",
    "\n",
    "**Expected Alignment**\n",
    "\n",
    "- SEED_VALUE = 25032025\n",
    "- ITERATIONS = 100 \n",
    "\n",
    "```\n",
    "1a8l_           MGLISDADKK-VIKEEFF-SKMV-----NPVKLIVFVRKDHCQYCDQLKQLVQELSELTDKLSYEIVDFDTP-EGKELAKRYRIDRAPATTITQDGKDFG\n",
    "2trc_P          EGQATHTGPKGVINDWRKFKLESEDGDSIPPSKKEILRQMSSPQSRDDKDSKERXSRKXSIQEYELIHQDKEDEG-CLRK-YR--RQCXQDXHQKL-SFG\n",
    "1mek_           ----------------------------------------------------------------------------------------------------\n",
    "1erv_           ----------------------------------------------------------------------------------------------------\n",
    "1r26_A          ----------------------------------------------------------------------------------------------------\n",
    "1thx_           ----------------------------------------------------------------------------------------------------\n",
    "\n",
    "1a8l_           VRYFGLPAG-HEFAAFLEDIVDVSREETNLMDETKQAIRNIDQD-VRILV-FVTPTCPYCPLAVRMAHKFAIEN-TKAGKGKILGDMVEAIEYPEWADQY\n",
    "2trc_P          PRY-GFVY-ELETGEQFLETIEKEQKVTTIVVNIYEDGVRGCDA-LNSSLECLA--AEY-P-XVKFCKIRASNTGAGDRFSSDVLPTLLVYKGGELISNF\n",
    "1mek_           ------------------DAPEEEDHVLVLRKSNFAEAL-AAHKYLLV-E-FYAPWCGHCKALAPEYAKAAGKLK--AEGSEIRLAKVDATEESDLAQQY\n",
    "1erv_           ------------------MVKQIE------SKTAFQEALDAAGDKLVV-VDFSATWCGPCKMIKPFFHSLS------EKYSNVIFLEVDVDDCQDVASEC\n",
    "1r26_A          --------------------PSVVD-VYSV-EQ-FRNI--MSEDILTVAW-FTAVWCGPCKTIERPMEKIAY------EFPTVKFAKVDADNNSEIVSKC\n",
    "1thx_           ----------------------SKGVITITDAEFESEVL-KAEQPVLV-Y-FWASWCGPCQLMSPLINLAANTYS--DRLKVVKLE-IDPNPTT-V-KKY\n",
    "\n",
    "1a8l_           NVMAVPKIVIQVNGEDRVE-FEGAYPEKMFL-EKLLSALS-------\n",
    "2trc_P          IS----------VAEQFAEDFFAADVE-SFLNEYGLLPER-------\n",
    "1mek_           GVRGYPTIKFFRNGDTASP--KEYTAGREAD-DI-VNWLKKRTGPAA\n",
    "1erv_           EVKSMPTFQFFKKGQKVGE----F-SG--ANK----EKLEATINELV\n",
    "1r26_A          RVLQLPTFIIARSGKMLGH-VI----G--AN-PG-MLRQKLRDIIKD\n",
    "1thx_           KVEGVPALRLVK-GEQILD----STEGVISK-DK-LLSFLD-TH-LN\n",
    "```"
   ]
  },
  {
   "cell_type": "markdown",
   "id": "6020c4a9-7df1-45af-94e5-472e9e56553b",
   "metadata": {},
   "source": [
    "**Actual Alignment**"
   ]
  },
  {
   "cell_type": "code",
   "execution_count": 12,
   "id": "591c868a-4dbb-44cf-ad9f-8981d2349df9",
   "metadata": {},
   "outputs": [
    {
     "name": "stdout",
     "output_type": "stream",
     "text": [
      "Displaying ClustalW format alignment from data/output/BB40044.aln: \n",
      "\n",
      "1a8l_           MGLISDADKK-VIKEEFF-SKMV-----NPVKLIVFVRKDHCQYCDQLKQLVQELSELTDKLSYEIVDFDTP-EGKELAKRYRIDRAPATTITQDGKDFG\n",
      "2trc_P          EGQATHTGPKGVINDWRKFKLESEDGDSIPPSKKEILRQMSSPQSRDDKDSKERXSRKXSIQEYELIHQDKEDEG-CLRK-YR--RQCXQDXHQKL-SFG\n",
      "1mek_           ----------------------------------------------------------------------------------------------------\n",
      "1erv_           ----------------------------------------------------------------------------------------------------\n",
      "1r26_A          ----------------------------------------------------------------------------------------------------\n",
      "1thx_           ----------------------------------------------------------------------------------------------------\n",
      "\n",
      "1a8l_           VRYFGLPAG-HEFAAFLEDIVDVSREETNLMDETKQAIRNIDQD-VRILV-FVTPTCPYCPLAVRMAHKFAIEN-TKAGKGKILGDMVEAIEYPEWADQY\n",
      "2trc_P          PRY-GFVY-ELETGEQFLETIEKEQKVTTIVVNIYEDGVRGCDA-LNSSLECLA--AEY-P-XVKFCKIRASNTGAGDRFSSDVLPTLLVYKGGELISNF\n",
      "1mek_           ------------------DAPEEEDHVLVLRKSNFAEAL-AAHKYLLV-E-FYAPWCGHCKALAPEYAKAAGKLK--AEGSEIRLAKVDATEESDLAQQY\n",
      "1erv_           ------------------MVKQIE------SKTAFQEALDAAGDKLVV-VDFSATWCGPCKMIKPFFHSLS------EKYSNVIFLEVDVDDCQDVASEC\n",
      "1r26_A          --------------------PSVVD-VYSV-EQ-FRNI--MSEDILTVAW-FTAVWCGPCKTIERPMEKIAY------EFPTVKFAKVDADNNSEIVSKC\n",
      "1thx_           ----------------------SKGVITITDAEFESEVL-KAEQPVLV-Y-FWASWCGPCQLMSPLINLAANTYS--DRLKVVKLE-IDPNPTT-V-KKY\n",
      "\n",
      "1a8l_           NVMAVPKIVIQVNGEDRVE-FEGAYPEKMFL-EKLLSALS-------\n",
      "2trc_P          IS----------VAEQFAEDFFAADVE-SFLNEYGLLPER-------\n",
      "1mek_           GVRGYPTIKFFRNGDTASP--KEYTAGREAD-DI-VNWLKKRTGPAA\n",
      "1erv_           EVKSMPTFQFFKKGQKVGE----F-SG--ANK----EKLEATINELV\n",
      "1r26_A          RVLQLPTFIIARSGKMLGH-VI----G--AN-PG-MLRQKLRDIIKD\n",
      "1thx_           KVEGVPALRLVK-GEQILD----STEGVISK-DK-LLSFLD-TH-LN\n",
      "\n"
     ]
    }
   ],
   "source": [
    "presenter.present_aligned_clustalw(ALIGNMENT_FILEPATHS[5])"
   ]
  },
  {
   "cell_type": "code",
   "execution_count": null,
   "id": "5a753f40-c966-48e0-9ee9-7f68fd310ad4",
   "metadata": {},
   "outputs": [],
   "source": []
  },
  {
   "cell_type": "code",
   "execution_count": null,
   "id": "9abe03aa-d7e8-47b5-810a-67fc4bd65d37",
   "metadata": {},
   "outputs": [],
   "source": []
  }
 ],
 "metadata": {
  "kernelspec": {
   "display_name": "Python 3 (ipykernel)",
   "language": "python",
   "name": "python3"
  },
  "language_info": {
   "codemirror_mode": {
    "name": "ipython",
    "version": 3
   },
   "file_extension": ".py",
   "mimetype": "text/x-python",
   "name": "python",
   "nbconvert_exporter": "python",
   "pygments_lexer": "ipython3",
   "version": "3.10.4"
  }
 },
 "nbformat": 4,
 "nbformat_minor": 5
}
